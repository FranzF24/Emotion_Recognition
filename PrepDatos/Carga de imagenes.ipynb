{
 "cells": [
  {
   "cell_type": "code",
   "execution_count": 1,
   "id": "3e5cc2e1",
   "metadata": {},
   "outputs": [],
   "source": [
    "import os\n",
    "import re\n",
    "\n",
    "import numpy as np\n",
    "import pandas as pd\n",
    "import matplotlib.pyplot as plt\n",
    "\n",
    "import cv2\n",
    "import PIL.Image as Image\n",
    "\n",
    "from skimage import io, color, transform\n",
    "from skimage.feature import hog\n",
    "\n",
    "import time"
   ]
  },
  {
   "cell_type": "markdown",
   "id": "84debbc6",
   "metadata": {},
   "source": [
    "# Preparación del dataset"
   ]
  },
  {
   "cell_type": "code",
   "execution_count": 3,
   "id": "e8f632dd",
   "metadata": {},
   "outputs": [],
   "source": [
    "base = \"../FER2013/\"\n",
    "paths = []\n",
    "labels = []\n",
    "\n",
    "for level_1_dir in os.listdir(base):\n",
    "    level_1_path = os.path.join(base, level_1_dir)\n",
    "    if os.path.isdir(level_1_path):\n",
    "        for level_2_dir in os.listdir(level_1_path):\n",
    "            level_2_path = os.path.join(level_1_path, level_2_dir)\n",
    "            if os.path.isdir(level_2_path):\n",
    "                for file in os.listdir(level_2_path):\n",
    "                    file_path = os.path.join(level_2_path, file)\n",
    "                    if os.path.isfile(file_path):\n",
    "                        paths.append(file_path)\n",
    "                        labels.append(level_2_dir)\n",
    "\n",
    "df = pd.DataFrame({'path': paths, 'label': labels})\n",
    "\n",
    "def load_and_preprocess_image(path):\n",
    "    image_color = cv2.imread(path)\n",
    "    gray_image = cv2.cvtColor(image_color, cv2.COLOR_BGR2GRAY)\n",
    "    return gray_image\n",
    "\n",
    "df['gray_matrix'] = df['path'].apply(load_and_preprocess_image)\n"
   ]
  },
  {
   "cell_type": "code",
   "execution_count": 4,
   "id": "c1330e39",
   "metadata": {},
   "outputs": [],
   "source": [
    "images=df['gray_matrix'].to_numpy()"
   ]
  },
  {
   "cell_type": "code",
   "execution_count": 5,
   "id": "85f45415",
   "metadata": {},
   "outputs": [
    {
     "name": "stderr",
     "output_type": "stream",
     "text": [
      "<>:1: SyntaxWarning: invalid escape sequence '\\D'\n",
      "<>:2: SyntaxWarning: invalid escape sequence '\\D'\n",
      "<>:1: SyntaxWarning: invalid escape sequence '\\D'\n",
      "<>:2: SyntaxWarning: invalid escape sequence '\\D'\n",
      "C:\\Users\\gonza\\AppData\\Local\\Temp\\ipykernel_23228\\1998068355.py:1: SyntaxWarning: invalid escape sequence '\\D'\n",
      "  np.save('..\\DatosDF\\labels.npy', labels)\n",
      "C:\\Users\\gonza\\AppData\\Local\\Temp\\ipykernel_23228\\1998068355.py:2: SyntaxWarning: invalid escape sequence '\\D'\n",
      "  np.save('..\\DatosDF\\images.npy', images)\n"
     ]
    }
   ],
   "source": [
    "np.save('..\\DatosDF\\labels.npy', labels)\n",
    "np.save('..\\DatosDF\\images.npy', images)"
   ]
  },
  {
   "cell_type": "code",
   "execution_count": 6,
   "id": "4da9b554",
   "metadata": {},
   "outputs": [
    {
     "data": {
      "image/png": "[encoded data removed]",
      "text/plain": [
       "<Figure size 640x480 with 1 Axes>"
      ]
     },
     "metadata": {},
     "output_type": "display_data"
    }
   ],
   "source": [
    "a=69\n",
    "plt.imshow(images[a], cmap='gray')\n",
    "plt.axis('off')  # Desactiva los ejes\n",
    "plt.title(labels[a])\n",
    "plt.show()"
   ]
  },
  {
   "cell_type": "code",
   "execution_count": 7,
   "metadata": {},
   "outputs": [],
   "source": [
    "def calculate_hog(image):\n",
    "    # Reshape de la imagen al tamaño requerido por HOG\n",
    "    image_resized = cv2.resize(image, (64, 128))\n",
    "\n",
    "    # Crear un objeto HOG\n",
    "    hog = cv2.HOGDescriptor()\n",
    "\n",
    "    # Calcular el HOG en la imagen redimensionada\n",
    "    hog_features = hog.compute(image_resized)\n",
    "    return hog_features"
   ]
  },
  {
   "cell_type": "code",
   "execution_count": 8,
   "metadata": {},
   "outputs": [
    {
     "name": "stdout",
     "output_type": "stream",
     "text": [
      "CPU times: total: 5.36 s\n",
      "Wall time: 5.65 s\n"
     ]
    },
    {
     "data": {
      "text/html": [
       "<div>\n",
       "<style scoped>\n",
       "    .dataframe tbody tr th:only-of-type {\n",
       "        vertical-align: middle;\n",
       "    }\n",
       "\n",
       "    .dataframe tbody tr th {\n",
       "        vertical-align: top;\n",
       "    }\n",
       "\n",
       "    .dataframe thead th {\n",
       "        text-align: right;\n",
       "    }\n",
       "</style>\n",
       "<table border=\"1\" class=\"dataframe\">\n",
       "  <thead>\n",
       "    <tr style=\"text-align: right;\">\n",
       "      <th></th>\n",
       "      <th>path</th>\n",
       "      <th>label</th>\n",
       "      <th>gray_matrix</th>\n",
       "      <th>hog</th>\n",
       "    </tr>\n",
       "  </thead>\n",
       "  <tbody>\n",
       "    <tr>\n",
       "      <th>0</th>\n",
       "      <td>../FER2013/test\\angry\\PrivateTest_10131363.jpg</td>\n",
       "      <td>angry</td>\n",
       "      <td>[[46, 34, 26, 23, 12, 32, 35, 26, 26, 38, 71, ...</td>\n",
       "      <td>[0.33274356, 0.1704117, 0.025357863, 0.0006549...</td>\n",
       "    </tr>\n",
       "    <tr>\n",
       "      <th>1</th>\n",
       "      <td>../FER2013/test\\angry\\PrivateTest_10304478.jpg</td>\n",
       "      <td>angry</td>\n",
       "      <td>[[55, 33, 54, 32, 26, 21, 50, 29, 38, 45, 79, ...</td>\n",
       "      <td>[0.27381572, 0.22986299, 0.09233569, 0.0294371...</td>\n",
       "    </tr>\n",
       "    <tr>\n",
       "      <th>2</th>\n",
       "      <td>../FER2013/test\\angry\\PrivateTest_1054527.jpg</td>\n",
       "      <td>angry</td>\n",
       "      <td>[[123, 123, 126, 131, 124, 69, 109, 149, 159, ...</td>\n",
       "      <td>[0.34384748, 0.01883176, 0.004236705, 0.010840...</td>\n",
       "    </tr>\n",
       "    <tr>\n",
       "      <th>3</th>\n",
       "      <td>../FER2013/test\\angry\\PrivateTest_10590091.jpg</td>\n",
       "      <td>angry</td>\n",
       "      <td>[[255, 255, 255, 255, 255, 255, 255, 255, 255,...</td>\n",
       "      <td>[0.014489936, 0.008741817, 0.020611065, 0.0, 0...</td>\n",
       "    </tr>\n",
       "    <tr>\n",
       "      <th>4</th>\n",
       "      <td>../FER2013/test\\angry\\PrivateTest_1109992.jpg</td>\n",
       "      <td>angry</td>\n",
       "      <td>[[127, 121, 124, 137, 123, 118, 120, 111, 111,...</td>\n",
       "      <td>[0.25325525, 0.0767658, 0.026558537, 0.0181144...</td>\n",
       "    </tr>\n",
       "    <tr>\n",
       "      <th>...</th>\n",
       "      <td>...</td>\n",
       "      <td>...</td>\n",
       "      <td>...</td>\n",
       "      <td>...</td>\n",
       "    </tr>\n",
       "    <tr>\n",
       "      <th>35882</th>\n",
       "      <td>../FER2013/train\\surprise\\Training_99916297.jpg</td>\n",
       "      <td>surprise</td>\n",
       "      <td>[[27, 26, 26, 26, 27, 27, 28, 28, 33, 34, 35, ...</td>\n",
       "      <td>[0.14022486, 0.07403437, 0.0686184, 0.0, 0.041...</td>\n",
       "    </tr>\n",
       "    <tr>\n",
       "      <th>35883</th>\n",
       "      <td>../FER2013/train\\surprise\\Training_99924420.jpg</td>\n",
       "      <td>surprise</td>\n",
       "      <td>[[7, 6, 13, 39, 76, 58, 29, 21, 16, 20, 34, 56...</td>\n",
       "      <td>[0.39263126, 0.11640715, 0.0072888294, 0.00144...</td>\n",
       "    </tr>\n",
       "    <tr>\n",
       "      <th>35884</th>\n",
       "      <td>../FER2013/train\\surprise\\Training_99937001.jpg</td>\n",
       "      <td>surprise</td>\n",
       "      <td>[[124, 129, 125, 123, 129, 128, 127, 128, 131,...</td>\n",
       "      <td>[0.20560372, 0.04748373, 0.03934206, 0.0998374...</td>\n",
       "    </tr>\n",
       "    <tr>\n",
       "      <th>35885</th>\n",
       "      <td>../FER2013/train\\surprise\\Training_99951755.jpg</td>\n",
       "      <td>surprise</td>\n",
       "      <td>[[242, 242, 242, 216, 110, 42, 20, 41, 37, 14,...</td>\n",
       "      <td>[0.3589315, 0.16316827, 0.042510495, 0.0318309...</td>\n",
       "    </tr>\n",
       "    <tr>\n",
       "      <th>35886</th>\n",
       "      <td>../FER2013/train\\surprise\\Training_99984132.jpg</td>\n",
       "      <td>surprise</td>\n",
       "      <td>[[194, 197, 191, 174, 160, 147, 145, 158, 155,...</td>\n",
       "      <td>[0.3321482, 0.3321482, 0.07540651, 0.02142311,...</td>\n",
       "    </tr>\n",
       "  </tbody>\n",
       "</table>\n",
       "<p>35887 rows × 4 columns</p>\n",
       "</div>"
      ],
      "text/plain": [
       "                                                  path     label  \\\n",
       "0       ../FER2013/test\\angry\\PrivateTest_10131363.jpg     angry   \n",
       "1       ../FER2013/test\\angry\\PrivateTest_10304478.jpg     angry   \n",
       "2        ../FER2013/test\\angry\\PrivateTest_1054527.jpg     angry   \n",
       "3       ../FER2013/test\\angry\\PrivateTest_10590091.jpg     angry   \n",
       "4        ../FER2013/test\\angry\\PrivateTest_1109992.jpg     angry   \n",
       "...                                                ...       ...   \n",
       "35882  ../FER2013/train\\surprise\\Training_99916297.jpg  surprise   \n",
       "35883  ../FER2013/train\\surprise\\Training_99924420.jpg  surprise   \n",
       "35884  ../FER2013/train\\surprise\\Training_99937001.jpg  surprise   \n",
       "35885  ../FER2013/train\\surprise\\Training_99951755.jpg  surprise   \n",
       "35886  ../FER2013/train\\surprise\\Training_99984132.jpg  surprise   \n",
       "\n",
       "                                             gray_matrix  \\\n",
       "0      [[46, 34, 26, 23, 12, 32, 35, 26, 26, 38, 71, ...   \n",
       "1      [[55, 33, 54, 32, 26, 21, 50, 29, 38, 45, 79, ...   \n",
       "2      [[123, 123, 126, 131, 124, 69, 109, 149, 159, ...   \n",
       "3      [[255, 255, 255, 255, 255, 255, 255, 255, 255,...   \n",
       "4      [[127, 121, 124, 137, 123, 118, 120, 111, 111,...   \n",
       "...                                                  ...   \n",
       "35882  [[27, 26, 26, 26, 27, 27, 28, 28, 33, 34, 35, ...   \n",
       "35883  [[7, 6, 13, 39, 76, 58, 29, 21, 16, 20, 34, 56...   \n",
       "35884  [[124, 129, 125, 123, 129, 128, 127, 128, 131,...   \n",
       "35885  [[242, 242, 242, 216, 110, 42, 20, 41, 37, 14,...   \n",
       "35886  [[194, 197, 191, 174, 160, 147, 145, 158, 155,...   \n",
       "\n",
       "                                                     hog  \n",
       "0      [0.33274356, 0.1704117, 0.025357863, 0.0006549...  \n",
       "1      [0.27381572, 0.22986299, 0.09233569, 0.0294371...  \n",
       "2      [0.34384748, 0.01883176, 0.004236705, 0.010840...  \n",
       "3      [0.014489936, 0.008741817, 0.020611065, 0.0, 0...  \n",
       "4      [0.25325525, 0.0767658, 0.026558537, 0.0181144...  \n",
       "...                                                  ...  \n",
       "35882  [0.14022486, 0.07403437, 0.0686184, 0.0, 0.041...  \n",
       "35883  [0.39263126, 0.11640715, 0.0072888294, 0.00144...  \n",
       "35884  [0.20560372, 0.04748373, 0.03934206, 0.0998374...  \n",
       "35885  [0.3589315, 0.16316827, 0.042510495, 0.0318309...  \n",
       "35886  [0.3321482, 0.3321482, 0.07540651, 0.02142311,...  \n",
       "\n",
       "[35887 rows x 4 columns]"
      ]
     },
     "execution_count": 8,
     "metadata": {},
     "output_type": "execute_result"
    }
   ],
   "source": [
    "%%time\n",
    "\n",
    "df['hog'] = df['gray_matrix'].apply(calculate_hog)\n",
    "df"
   ]
  },
  {
   "cell_type": "code",
   "execution_count": 13,
   "metadata": {},
   "outputs": [],
   "source": [
    "from sklearn.decomposition import PCA"
   ]
  },
  {
   "cell_type": "code",
   "execution_count": 47,
   "metadata": {},
   "outputs": [
    {
     "name": "stdout",
     "output_type": "stream",
     "text": [
      "Componentes principales:\n",
      "[[-0.0318534  -0.01040787  0.00943468 ...  0.00654086  0.00619359\n",
      "  -0.00629608]\n",
      " [ 0.00222531 -0.00382971  0.0062989  ... -0.00354993 -0.0083415\n",
      "  -0.0151551 ]\n",
      " [-0.00337737  0.02735024  0.01387822 ...  0.01227419  0.01618459\n",
      "   0.00796845]\n",
      " ...\n",
      " [ 0.03983126  0.00740468  0.02671079 ...  0.0028345   0.00941615\n",
      "   0.02085214]\n",
      " [ 0.03663153 -0.02308392 -0.00915476 ...  0.00941608  0.00029536\n",
      "   0.00916205]\n",
      " [ 0.02866959 -0.00253248 -0.00240953 ... -0.02023169 -0.020077\n",
      "  -0.02998024]]\n"
     ]
    }
   ],
   "source": [
    "entrada=df['hog'].values.tolist()\n",
    "# aplica transformacion PCA\n",
    "pca = PCA(n_components=821) # define el transformador PCA con n_componentes\n",
    "fit_pca = pca.fit(entrada)   # ajusta el transformador PCA con los datos estandarizados o Data sin oultilers\n",
    "X_pca = fit_pca.transform(entrada) # obtiene los datos pca transformados (el resultado es un array numpy)\n",
    "\n",
    "print(\"Componentes principales:\")\n",
    "print(fit_pca.components_) #Componentes principales"
   ]
  },
  {
   "cell_type": "code",
   "execution_count": 48,
   "metadata": {},
   "outputs": [
    {
     "name": "stdout",
     "output_type": "stream",
     "text": [
      "explained_variance_ratio :.90.00024069252265%\n"
     ]
    }
   ],
   "source": [
    "print('explained_variance_ratio :.{}%'.format(fit_pca.explained_variance_ratio_[:].sum()*100))"
   ]
  },
  {
   "cell_type": "code",
   "execution_count": 59,
   "metadata": {},
   "outputs": [],
   "source": [
    "df['pca']=X_pca.tolist()"
   ]
  },
  {
   "cell_type": "code",
   "execution_count": 61,
   "metadata": {},
   "outputs": [],
   "source": [
    "pca=df['pca'].to_numpy()"
   ]
  },
  {
   "cell_type": "code",
   "execution_count": 63,
   "metadata": {},
   "outputs": [],
   "source": [
    "np.save('../DatosDF/pca.npy', pca)"
   ]
  }
 ],
 "metadata": {
  "kernelspec": {
   "display_name": "Python 3 (ipykernel)",
   "language": "python",
   "name": "python3"
  },
  "language_info": {
   "codemirror_mode": {
    "name": "ipython",
    "version": 3
   },
   "file_extension": ".py",
   "mimetype": "text/x-python",
   "name": "python",
   "nbconvert_exporter": "python",
   "pygments_lexer": "ipython3",
   "version": "3.12.0"
  }
 },
 "nbformat": 4,
 "nbformat_minor": 5
}
