{
 "cells": [
  {
   "cell_type": "code",
   "execution_count": 2,
   "id": "3e5cc2e1",
   "metadata": {},
   "outputs": [],
   "source": [
    "import os\n",
    "import re\n",
    "\n",
    "import numpy as np\n",
    "import pandas as pd\n",
    "import matplotlib.pyplot as plt\n",
    "\n",
    "import cv2\n",
    "import PIL.Image as Image"
   ]
  },
  {
   "cell_type": "markdown",
   "id": "84debbc6",
   "metadata": {},
   "source": [
    "# Preparación del dataset"
   ]
  },
  {
   "cell_type": "code",
   "execution_count": 2,
   "id": "e8f632dd",
   "metadata": {},
   "outputs": [],
   "source": [
    "base = \"E:\\\\Projects\\\\MachinLerni - Rostros\\\\FER2013\\\\\"\n",
    "paths = []\n",
    "labels = []\n",
    "\n",
    "for level_1_dir in os.listdir(base):\n",
    "    level_1_path = os.path.join(base, level_1_dir)\n",
    "    if os.path.isdir(level_1_path):\n",
    "        for level_2_dir in os.listdir(level_1_path):\n",
    "            level_2_path = os.path.join(level_1_path, level_2_dir)\n",
    "            if os.path.isdir(level_2_path):\n",
    "                for file in os.listdir(level_2_path):\n",
    "                    file_path = os.path.join(level_2_path, file)\n",
    "                    if os.path.isfile(file_path):\n",
    "                        paths.append(file_path)\n",
    "                        labels.append(level_2_dir)\n",
    "\n",
    "df = pd.DataFrame({'path': paths, 'label': labels})\n",
    "\n",
    "def load_and_preprocess_image(path):\n",
    "    image_color = cv2.imread(path)\n",
    "    gray_image = cv2.cvtColor(image_color, cv2.COLOR_BGR2GRAY)\n",
    "    return gray_image\n",
    "\n",
    "df['gray_matrix'] = df['path'].apply(load_and_preprocess_image)\n"
   ]
  },
  {
   "cell_type": "code",
   "execution_count": 3,
   "id": "c1330e39",
   "metadata": {},
   "outputs": [],
   "source": [
    "images=df['gray_matrix'].to_numpy()"
   ]
  },
  {
   "cell_type": "code",
   "execution_count": 4,
   "id": "85f45415",
   "metadata": {},
   "outputs": [],
   "source": [
    "np.save('..\\DatosDF\\labels.npy', labels)\n",
    "np.save('..\\DatosDF\\images.npy', images)"
   ]
  },
  {
   "cell_type": "code",
   "execution_count": 5,
   "id": "4da9b554",
   "metadata": {},
   "outputs": [
    {
     "data": {
      "image/png": "[encoded data removed]",
      "text/plain": [
       "<Figure size 640x480 with 1 Axes>"
      ]
     },
     "metadata": {},
     "output_type": "display_data"
    }
   ],
   "source": [
    "a=69\n",
    "plt.imshow(images[a], cmap='gray')\n",
    "plt.axis('off')  # Desactiva los ejes\n",
    "plt.title(labels[a])\n",
    "plt.show()"
   ]
  }
 ],
 "metadata": {
  "kernelspec": {
   "display_name": "Python 3 (ipykernel)",
   "language": "python",
   "name": "python3"
  },
  "language_info": {
   "codemirror_mode": {
    "name": "ipython",
    "version": 3
   },
   "file_extension": ".py",
   "mimetype": "text/x-python",
   "name": "python",
   "nbconvert_exporter": "python",
   "pygments_lexer": "ipython3",
   "version": "3.8.10"
  }
 },
 "nbformat": 4,
 "nbformat_minor": 5
}
