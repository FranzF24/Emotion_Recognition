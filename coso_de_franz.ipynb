{
 "cells": [
  {
   "cell_type": "code",
   "execution_count": 48,
   "id": "3e5cc2e1",
   "metadata": {
    "id": "3e5cc2e1"
   },
   "outputs": [],
   "source": [
    "import os\n",
    "import re\n",
    "\n",
    "import numpy as np\n",
    "import pandas as pd\n",
    "import matplotlib.pyplot as plt\n",
    "\n",
    "import cv2\n",
    "import PIL.Image as Image\n",
    "\n",
    "from skimage import io, color, transform\n",
    "from skimage.feature import hog\n",
    "\n",
    "import time"
   ]
  },
  {
   "cell_type": "code",
   "execution_count": 49,
   "id": "282a53c5",
   "metadata": {
    "colab": {
     "base_uri": "https://localhost:8080/",
     "height": 423
    },
    "id": "282a53c5",
    "outputId": "7fee2f28-0ee5-431a-a502-bf72765bb0a2"
   },
   "outputs": [
    {
     "data": {
      "text/html": [
       "<div>\n",
       "<style scoped>\n",
       "    .dataframe tbody tr th:only-of-type {\n",
       "        vertical-align: middle;\n",
       "    }\n",
       "\n",
       "    .dataframe tbody tr th {\n",
       "        vertical-align: top;\n",
       "    }\n",
       "\n",
       "    .dataframe thead th {\n",
       "        text-align: right;\n",
       "    }\n",
       "</style>\n",
       "<table border=\"1\" class=\"dataframe\">\n",
       "  <thead>\n",
       "    <tr style=\"text-align: right;\">\n",
       "      <th></th>\n",
       "      <th>gray_matrix</th>\n",
       "      <th>label</th>\n",
       "    </tr>\n",
       "  </thead>\n",
       "  <tbody>\n",
       "    <tr>\n",
       "      <th>0</th>\n",
       "      <td>[[46, 34, 26, 23, 12, 32, 35, 26, 26, 38, 71, ...</td>\n",
       "      <td>angry</td>\n",
       "    </tr>\n",
       "    <tr>\n",
       "      <th>1</th>\n",
       "      <td>[[55, 33, 54, 32, 26, 21, 50, 29, 38, 45, 79, ...</td>\n",
       "      <td>angry</td>\n",
       "    </tr>\n",
       "    <tr>\n",
       "      <th>2</th>\n",
       "      <td>[[123, 123, 126, 131, 124, 69, 109, 149, 159, ...</td>\n",
       "      <td>angry</td>\n",
       "    </tr>\n",
       "    <tr>\n",
       "      <th>3</th>\n",
       "      <td>[[255, 255, 255, 255, 255, 255, 255, 255, 255,...</td>\n",
       "      <td>angry</td>\n",
       "    </tr>\n",
       "    <tr>\n",
       "      <th>4</th>\n",
       "      <td>[[127, 121, 124, 137, 123, 118, 120, 111, 111,...</td>\n",
       "      <td>angry</td>\n",
       "    </tr>\n",
       "    <tr>\n",
       "      <th>...</th>\n",
       "      <td>...</td>\n",
       "      <td>...</td>\n",
       "    </tr>\n",
       "    <tr>\n",
       "      <th>35882</th>\n",
       "      <td>[[27, 26, 26, 26, 27, 27, 28, 28, 33, 34, 35, ...</td>\n",
       "      <td>surprise</td>\n",
       "    </tr>\n",
       "    <tr>\n",
       "      <th>35883</th>\n",
       "      <td>[[7, 6, 13, 39, 76, 58, 29, 21, 16, 20, 34, 56...</td>\n",
       "      <td>surprise</td>\n",
       "    </tr>\n",
       "    <tr>\n",
       "      <th>35884</th>\n",
       "      <td>[[124, 129, 125, 123, 129, 128, 127, 128, 131,...</td>\n",
       "      <td>surprise</td>\n",
       "    </tr>\n",
       "    <tr>\n",
       "      <th>35885</th>\n",
       "      <td>[[242, 242, 242, 216, 110, 42, 20, 41, 37, 14,...</td>\n",
       "      <td>surprise</td>\n",
       "    </tr>\n",
       "    <tr>\n",
       "      <th>35886</th>\n",
       "      <td>[[194, 197, 191, 174, 160, 147, 145, 158, 155,...</td>\n",
       "      <td>surprise</td>\n",
       "    </tr>\n",
       "  </tbody>\n",
       "</table>\n",
       "<p>35887 rows × 2 columns</p>\n",
       "</div>"
      ],
      "text/plain": [
       "                                             gray_matrix     label\n",
       "0      [[46, 34, 26, 23, 12, 32, 35, 26, 26, 38, 71, ...     angry\n",
       "1      [[55, 33, 54, 32, 26, 21, 50, 29, 38, 45, 79, ...     angry\n",
       "2      [[123, 123, 126, 131, 124, 69, 109, 149, 159, ...     angry\n",
       "3      [[255, 255, 255, 255, 255, 255, 255, 255, 255,...     angry\n",
       "4      [[127, 121, 124, 137, 123, 118, 120, 111, 111,...     angry\n",
       "...                                                  ...       ...\n",
       "35882  [[27, 26, 26, 26, 27, 27, 28, 28, 33, 34, 35, ...  surprise\n",
       "35883  [[7, 6, 13, 39, 76, 58, 29, 21, 16, 20, 34, 56...  surprise\n",
       "35884  [[124, 129, 125, 123, 129, 128, 127, 128, 131,...  surprise\n",
       "35885  [[242, 242, 242, 216, 110, 42, 20, 41, 37, 14,...  surprise\n",
       "35886  [[194, 197, 191, 174, 160, 147, 145, 158, 155,...  surprise\n",
       "\n",
       "[35887 rows x 2 columns]"
      ]
     },
     "execution_count": 49,
     "metadata": {},
     "output_type": "execute_result"
    }
   ],
   "source": [
    "images = np.load('images.npy', allow_pickle=True)\n",
    "labels = np.load('labels.npy', allow_pickle=True)\n",
    "\n",
    "df = pd.DataFrame({'gray_matrix': images.tolist(), 'label': labels.tolist()})\n",
    "df"
   ]
  },
  {
   "cell_type": "code",
   "execution_count": 50,
   "id": "d0d661e5",
   "metadata": {
    "colab": {
     "base_uri": "https://localhost:8080/",
     "height": 423
    },
    "id": "d0d661e5",
    "outputId": "622ef808-c6eb-4876-9b17-4844129b5a0d"
   },
   "outputs": [
    {
     "data": {
      "text/html": [
       "<div>\n",
       "<style scoped>\n",
       "    .dataframe tbody tr th:only-of-type {\n",
       "        vertical-align: middle;\n",
       "    }\n",
       "\n",
       "    .dataframe tbody tr th {\n",
       "        vertical-align: top;\n",
       "    }\n",
       "\n",
       "    .dataframe thead th {\n",
       "        text-align: right;\n",
       "    }\n",
       "</style>\n",
       "<table border=\"1\" class=\"dataframe\">\n",
       "  <thead>\n",
       "    <tr style=\"text-align: right;\">\n",
       "      <th></th>\n",
       "      <th>gray_matrix</th>\n",
       "      <th>label</th>\n",
       "    </tr>\n",
       "  </thead>\n",
       "  <tbody>\n",
       "    <tr>\n",
       "      <th>0</th>\n",
       "      <td>[[46, 34, 26, 23, 12, 32, 35, 26, 26, 38, 71, ...</td>\n",
       "      <td>angry</td>\n",
       "    </tr>\n",
       "    <tr>\n",
       "      <th>1</th>\n",
       "      <td>[[55, 33, 54, 32, 26, 21, 50, 29, 38, 45, 79, ...</td>\n",
       "      <td>angry</td>\n",
       "    </tr>\n",
       "    <tr>\n",
       "      <th>2</th>\n",
       "      <td>[[123, 123, 126, 131, 124, 69, 109, 149, 159, ...</td>\n",
       "      <td>angry</td>\n",
       "    </tr>\n",
       "    <tr>\n",
       "      <th>3</th>\n",
       "      <td>[[255, 255, 255, 255, 255, 255, 255, 255, 255,...</td>\n",
       "      <td>angry</td>\n",
       "    </tr>\n",
       "    <tr>\n",
       "      <th>4</th>\n",
       "      <td>[[127, 121, 124, 137, 123, 118, 120, 111, 111,...</td>\n",
       "      <td>angry</td>\n",
       "    </tr>\n",
       "    <tr>\n",
       "      <th>...</th>\n",
       "      <td>...</td>\n",
       "      <td>...</td>\n",
       "    </tr>\n",
       "    <tr>\n",
       "      <th>35882</th>\n",
       "      <td>[[27, 26, 26, 26, 27, 27, 28, 28, 33, 34, 35, ...</td>\n",
       "      <td>surprise</td>\n",
       "    </tr>\n",
       "    <tr>\n",
       "      <th>35883</th>\n",
       "      <td>[[7, 6, 13, 39, 76, 58, 29, 21, 16, 20, 34, 56...</td>\n",
       "      <td>surprise</td>\n",
       "    </tr>\n",
       "    <tr>\n",
       "      <th>35884</th>\n",
       "      <td>[[124, 129, 125, 123, 129, 128, 127, 128, 131,...</td>\n",
       "      <td>surprise</td>\n",
       "    </tr>\n",
       "    <tr>\n",
       "      <th>35885</th>\n",
       "      <td>[[242, 242, 242, 216, 110, 42, 20, 41, 37, 14,...</td>\n",
       "      <td>surprise</td>\n",
       "    </tr>\n",
       "    <tr>\n",
       "      <th>35886</th>\n",
       "      <td>[[194, 197, 191, 174, 160, 147, 145, 158, 155,...</td>\n",
       "      <td>surprise</td>\n",
       "    </tr>\n",
       "  </tbody>\n",
       "</table>\n",
       "<p>35887 rows × 2 columns</p>\n",
       "</div>"
      ],
      "text/plain": [
       "                                             gray_matrix     label\n",
       "0      [[46, 34, 26, 23, 12, 32, 35, 26, 26, 38, 71, ...     angry\n",
       "1      [[55, 33, 54, 32, 26, 21, 50, 29, 38, 45, 79, ...     angry\n",
       "2      [[123, 123, 126, 131, 124, 69, 109, 149, 159, ...     angry\n",
       "3      [[255, 255, 255, 255, 255, 255, 255, 255, 255,...     angry\n",
       "4      [[127, 121, 124, 137, 123, 118, 120, 111, 111,...     angry\n",
       "...                                                  ...       ...\n",
       "35882  [[27, 26, 26, 26, 27, 27, 28, 28, 33, 34, 35, ...  surprise\n",
       "35883  [[7, 6, 13, 39, 76, 58, 29, 21, 16, 20, 34, 56...  surprise\n",
       "35884  [[124, 129, 125, 123, 129, 128, 127, 128, 131,...  surprise\n",
       "35885  [[242, 242, 242, 216, 110, 42, 20, 41, 37, 14,...  surprise\n",
       "35886  [[194, 197, 191, 174, 160, 147, 145, 158, 155,...  surprise\n",
       "\n",
       "[35887 rows x 2 columns]"
      ]
     },
     "execution_count": 50,
     "metadata": {},
     "output_type": "execute_result"
    }
   ],
   "source": [
    "df"
   ]
  },
  {
   "cell_type": "markdown",
   "id": "a184e25a",
   "metadata": {
    "id": "a184e25a"
   },
   "source": [
    "## Función para Hog descriptor"
   ]
  },
  {
   "cell_type": "code",
   "execution_count": 51,
   "id": "2a596a25",
   "metadata": {
    "id": "2a596a25"
   },
   "outputs": [],
   "source": [
    "def calculate_hog(image):\n",
    "    # Reshape de la imagen al tamaño requerido por HOG\n",
    "    image_resized = cv2.resize(image, (64, 128))\n",
    "\n",
    "    # Crear un objeto HOG\n",
    "    hog = cv2.HOGDescriptor()\n",
    "\n",
    "    # Calcular el HOG en la imagen redimensionada\n",
    "    hog_features = hog.compute(image_resized)\n",
    "    return hog_features"
   ]
  },
  {
   "cell_type": "code",
   "execution_count": 52,
   "id": "4521f677",
   "metadata": {
    "colab": {
     "base_uri": "https://localhost:8080/",
     "height": 460
    },
    "id": "4521f677",
    "outputId": "7c1c0947-e17b-4eb4-bef6-7194583d0381"
   },
   "outputs": [
    {
     "name": "stdout",
     "output_type": "stream",
     "text": [
      "CPU times: total: 5.42 s\n",
      "Wall time: 5.59 s\n"
     ]
    },
    {
     "data": {
      "text/html": [
       "<div>\n",
       "<style scoped>\n",
       "    .dataframe tbody tr th:only-of-type {\n",
       "        vertical-align: middle;\n",
       "    }\n",
       "\n",
       "    .dataframe tbody tr th {\n",
       "        vertical-align: top;\n",
       "    }\n",
       "\n",
       "    .dataframe thead th {\n",
       "        text-align: right;\n",
       "    }\n",
       "</style>\n",
       "<table border=\"1\" class=\"dataframe\">\n",
       "  <thead>\n",
       "    <tr style=\"text-align: right;\">\n",
       "      <th></th>\n",
       "      <th>gray_matrix</th>\n",
       "      <th>label</th>\n",
       "      <th>hog</th>\n",
       "    </tr>\n",
       "  </thead>\n",
       "  <tbody>\n",
       "    <tr>\n",
       "      <th>0</th>\n",
       "      <td>[[46, 34, 26, 23, 12, 32, 35, 26, 26, 38, 71, ...</td>\n",
       "      <td>angry</td>\n",
       "      <td>[0.33274356, 0.1704117, 0.025357863, 0.0006549...</td>\n",
       "    </tr>\n",
       "    <tr>\n",
       "      <th>1</th>\n",
       "      <td>[[55, 33, 54, 32, 26, 21, 50, 29, 38, 45, 79, ...</td>\n",
       "      <td>angry</td>\n",
       "      <td>[0.27381572, 0.22986299, 0.09233569, 0.0294371...</td>\n",
       "    </tr>\n",
       "    <tr>\n",
       "      <th>2</th>\n",
       "      <td>[[123, 123, 126, 131, 124, 69, 109, 149, 159, ...</td>\n",
       "      <td>angry</td>\n",
       "      <td>[0.34384748, 0.01883176, 0.004236705, 0.010840...</td>\n",
       "    </tr>\n",
       "    <tr>\n",
       "      <th>3</th>\n",
       "      <td>[[255, 255, 255, 255, 255, 255, 255, 255, 255,...</td>\n",
       "      <td>angry</td>\n",
       "      <td>[0.014489936, 0.008741817, 0.020611065, 0.0, 0...</td>\n",
       "    </tr>\n",
       "    <tr>\n",
       "      <th>4</th>\n",
       "      <td>[[127, 121, 124, 137, 123, 118, 120, 111, 111,...</td>\n",
       "      <td>angry</td>\n",
       "      <td>[0.25325525, 0.0767658, 0.026558537, 0.0181144...</td>\n",
       "    </tr>\n",
       "    <tr>\n",
       "      <th>...</th>\n",
       "      <td>...</td>\n",
       "      <td>...</td>\n",
       "      <td>...</td>\n",
       "    </tr>\n",
       "    <tr>\n",
       "      <th>35882</th>\n",
       "      <td>[[27, 26, 26, 26, 27, 27, 28, 28, 33, 34, 35, ...</td>\n",
       "      <td>surprise</td>\n",
       "      <td>[0.14022486, 0.07403437, 0.0686184, 0.0, 0.041...</td>\n",
       "    </tr>\n",
       "    <tr>\n",
       "      <th>35883</th>\n",
       "      <td>[[7, 6, 13, 39, 76, 58, 29, 21, 16, 20, 34, 56...</td>\n",
       "      <td>surprise</td>\n",
       "      <td>[0.39263126, 0.11640715, 0.0072888294, 0.00144...</td>\n",
       "    </tr>\n",
       "    <tr>\n",
       "      <th>35884</th>\n",
       "      <td>[[124, 129, 125, 123, 129, 128, 127, 128, 131,...</td>\n",
       "      <td>surprise</td>\n",
       "      <td>[0.20560372, 0.04748373, 0.03934206, 0.0998374...</td>\n",
       "    </tr>\n",
       "    <tr>\n",
       "      <th>35885</th>\n",
       "      <td>[[242, 242, 242, 216, 110, 42, 20, 41, 37, 14,...</td>\n",
       "      <td>surprise</td>\n",
       "      <td>[0.3589315, 0.16316827, 0.042510495, 0.0318309...</td>\n",
       "    </tr>\n",
       "    <tr>\n",
       "      <th>35886</th>\n",
       "      <td>[[194, 197, 191, 174, 160, 147, 145, 158, 155,...</td>\n",
       "      <td>surprise</td>\n",
       "      <td>[0.3321482, 0.3321482, 0.07540651, 0.02142311,...</td>\n",
       "    </tr>\n",
       "  </tbody>\n",
       "</table>\n",
       "<p>35887 rows × 3 columns</p>\n",
       "</div>"
      ],
      "text/plain": [
       "                                             gray_matrix     label  \\\n",
       "0      [[46, 34, 26, 23, 12, 32, 35, 26, 26, 38, 71, ...     angry   \n",
       "1      [[55, 33, 54, 32, 26, 21, 50, 29, 38, 45, 79, ...     angry   \n",
       "2      [[123, 123, 126, 131, 124, 69, 109, 149, 159, ...     angry   \n",
       "3      [[255, 255, 255, 255, 255, 255, 255, 255, 255,...     angry   \n",
       "4      [[127, 121, 124, 137, 123, 118, 120, 111, 111,...     angry   \n",
       "...                                                  ...       ...   \n",
       "35882  [[27, 26, 26, 26, 27, 27, 28, 28, 33, 34, 35, ...  surprise   \n",
       "35883  [[7, 6, 13, 39, 76, 58, 29, 21, 16, 20, 34, 56...  surprise   \n",
       "35884  [[124, 129, 125, 123, 129, 128, 127, 128, 131,...  surprise   \n",
       "35885  [[242, 242, 242, 216, 110, 42, 20, 41, 37, 14,...  surprise   \n",
       "35886  [[194, 197, 191, 174, 160, 147, 145, 158, 155,...  surprise   \n",
       "\n",
       "                                                     hog  \n",
       "0      [0.33274356, 0.1704117, 0.025357863, 0.0006549...  \n",
       "1      [0.27381572, 0.22986299, 0.09233569, 0.0294371...  \n",
       "2      [0.34384748, 0.01883176, 0.004236705, 0.010840...  \n",
       "3      [0.014489936, 0.008741817, 0.020611065, 0.0, 0...  \n",
       "4      [0.25325525, 0.0767658, 0.026558537, 0.0181144...  \n",
       "...                                                  ...  \n",
       "35882  [0.14022486, 0.07403437, 0.0686184, 0.0, 0.041...  \n",
       "35883  [0.39263126, 0.11640715, 0.0072888294, 0.00144...  \n",
       "35884  [0.20560372, 0.04748373, 0.03934206, 0.0998374...  \n",
       "35885  [0.3589315, 0.16316827, 0.042510495, 0.0318309...  \n",
       "35886  [0.3321482, 0.3321482, 0.07540651, 0.02142311,...  \n",
       "\n",
       "[35887 rows x 3 columns]"
      ]
     },
     "execution_count": 52,
     "metadata": {},
     "output_type": "execute_result"
    }
   ],
   "source": [
    "%%time\n",
    "\n",
    "df['hog'] = df['gray_matrix'].apply(calculate_hog)\n",
    "df"
   ]
  },
  {
   "cell_type": "code",
   "execution_count": 53,
   "id": "0807203f",
   "metadata": {
    "id": "0807203f"
   },
   "outputs": [],
   "source": [
    "X = np.array(df['hog'].values.tolist())\n",
    "y = df['label']"
   ]
  },
  {
   "cell_type": "markdown",
   "id": "QfSXM26q9x44",
   "metadata": {
    "id": "QfSXM26q9x44"
   },
   "source": [
    "# Undersampling"
   ]
  },
  {
   "cell_type": "code",
   "execution_count": 54,
   "id": "e27f7c48",
   "metadata": {
    "id": "e27f7c48"
   },
   "outputs": [],
   "source": [
    "from sklearn.neighbors import NearestNeighbors\n",
    "def knn_und(X,y,majority_class, k, t, algorithm=\"auto\", metric=\"euclidean\"):\n",
    "    \"\"\"Implementation of KNN Undersampling method for class undsersampling adjustment.\n",
    "\n",
    "    Parameters\n",
    "    ----------\n",
    "    X : array-like, or pandas.DataFrame, shape (n_samples, n_features)\n",
    "    Represents the data to be searched.\n",
    "\n",
    "    Y :  array-like, or pandas.DataFrame, shape (n_samples, 1)\n",
    "    The labels to X.\n",
    "\n",
    "    k : optional int\n",
    "    The number of nearest neighbors.\n",
    "\n",
    "    t : optional int\n",
    "    The threshold number of minority neighbors in order a majority example\n",
    "    to be considered a noise, and marked to be removed.\n",
    "\n",
    "    Returns\n",
    "    -------\n",
    "    undersampling_flags : ndarray, boolean, shape (n_samples, 1)\n",
    "    Indicates with True/False if an example will be not removed/removed, given the developed\n",
    "    heuristic.\n",
    "\n",
    "    Reference\n",
    "    ---------\n",
    "    Beckmann, M., Ebecken, N.F.F.,de Lima, B.S.L.B.P. 2015, A KNN Undersampling Approach for Data Balancing,\n",
    "    JILSA - Journal of Intelligent Learning Systems and Applications, 2015, 7, 104-116.\n",
    "\n",
    "    \"\"\"\n",
    "    #TODO IMPLEMENT SUPPORT FOR SPARSE MATRICES\n",
    "    if not isinstance(X, (np.ndarray, np.generic) ):\n",
    "        X = np.asarray(X)\n",
    "\n",
    "    if not isinstance(y, (np.ndarray, np.generic) ):\n",
    "        y = np.asarray(y)\n",
    "\n",
    "\n",
    "\n",
    "    nrows = X.shape[0]\n",
    "    ncols=1\n",
    "\n",
    "    result= [True] * nrows\n",
    "\n",
    "    nbrs = NearestNeighbors(n_neighbors=k,algorithm=\"auto\", metric=metric).fit(X)\n",
    "    nns_indexes = nbrs.kneighbors(X,return_distance=False)\n",
    "\n",
    "    for i in range(nrows):\n",
    "        example = X[i,1:ncols]\n",
    "        current_label = y[i]\n",
    "\n",
    "        if (current_label != majority_class):\n",
    "            result[i]=True\n",
    "            continue\n",
    "\n",
    "        nns_labels=y[nns_indexes[i]]\n",
    "\n",
    "        num_of_minority = 0\n",
    "\n",
    "        for nn_label in nns_labels:\n",
    "            if nn_label==i:\n",
    "                continue\n",
    "\n",
    "            if nn_label!=majority_class:\n",
    "                num_of_minority = num_of_minority+1\n",
    "\n",
    "\n",
    "        if num_of_minority>t:\n",
    "            result[i]=False\n",
    "        else:\n",
    "            result[i]=True\n",
    "\n",
    "    return(result)"
   ]
  },
  {
   "cell_type": "code",
   "execution_count": 55,
   "id": "7c7ed2d4",
   "metadata": {
    "colab": {
     "base_uri": "https://localhost:8080/",
     "height": 300
    },
    "id": "7c7ed2d4",
    "outputId": "e15f513f-d1a1-4912-bb81-1adcb907ebb0"
   },
   "outputs": [
    {
     "data": {
      "text/html": [
       "<div>\n",
       "<style scoped>\n",
       "    .dataframe tbody tr th:only-of-type {\n",
       "        vertical-align: middle;\n",
       "    }\n",
       "\n",
       "    .dataframe tbody tr th {\n",
       "        vertical-align: top;\n",
       "    }\n",
       "\n",
       "    .dataframe thead th {\n",
       "        text-align: right;\n",
       "    }\n",
       "</style>\n",
       "<table border=\"1\" class=\"dataframe\">\n",
       "  <thead>\n",
       "    <tr style=\"text-align: right;\">\n",
       "      <th></th>\n",
       "      <th>gray_matrix</th>\n",
       "      <th>hog</th>\n",
       "    </tr>\n",
       "    <tr>\n",
       "      <th>label</th>\n",
       "      <th></th>\n",
       "      <th></th>\n",
       "    </tr>\n",
       "  </thead>\n",
       "  <tbody>\n",
       "    <tr>\n",
       "      <th>angry</th>\n",
       "      <td>4953</td>\n",
       "      <td>4953</td>\n",
       "    </tr>\n",
       "    <tr>\n",
       "      <th>disgust</th>\n",
       "      <td>547</td>\n",
       "      <td>547</td>\n",
       "    </tr>\n",
       "    <tr>\n",
       "      <th>fear</th>\n",
       "      <td>5121</td>\n",
       "      <td>5121</td>\n",
       "    </tr>\n",
       "    <tr>\n",
       "      <th>happy</th>\n",
       "      <td>8989</td>\n",
       "      <td>8989</td>\n",
       "    </tr>\n",
       "    <tr>\n",
       "      <th>neutral</th>\n",
       "      <td>6198</td>\n",
       "      <td>6198</td>\n",
       "    </tr>\n",
       "    <tr>\n",
       "      <th>sad</th>\n",
       "      <td>6077</td>\n",
       "      <td>6077</td>\n",
       "    </tr>\n",
       "    <tr>\n",
       "      <th>surprise</th>\n",
       "      <td>4002</td>\n",
       "      <td>4002</td>\n",
       "    </tr>\n",
       "  </tbody>\n",
       "</table>\n",
       "</div>"
      ],
      "text/plain": [
       "          gray_matrix   hog\n",
       "label                      \n",
       "angry            4953  4953\n",
       "disgust           547   547\n",
       "fear             5121  5121\n",
       "happy            8989  8989\n",
       "neutral          6198  6198\n",
       "sad              6077  6077\n",
       "surprise         4002  4002"
      ]
     },
     "execution_count": 55,
     "metadata": {},
     "output_type": "execute_result"
    }
   ],
   "source": [
    "df.groupby('label').count()"
   ]
  },
  {
   "cell_type": "code",
   "execution_count": 56,
   "id": "eb701c5a",
   "metadata": {
    "id": "eb701c5a",
    "scrolled": true
   },
   "outputs": [
    {
     "name": "stdout",
     "output_type": "stream",
     "text": [
      "CPU times: total: 4min 20s\n",
      "Wall time: 55.1 s\n"
     ]
    },
    {
     "data": {
      "text/plain": [
       "3396"
      ]
     },
     "execution_count": 56,
     "metadata": {},
     "output_type": "execute_result"
    }
   ],
   "source": [
    "%%time\n",
    "surprise=knn_und(X,y,'surprise', k=15, t=3, algorithm=\"auto\", metric=\"euclidean\")\n",
    "surprise.count(False)"
   ]
  },
  {
   "cell_type": "code",
   "execution_count": 57,
   "id": "8m4E7ZVx9ffA",
   "metadata": {
    "id": "8m4E7ZVx9ffA"
   },
   "outputs": [
    {
     "name": "stdout",
     "output_type": "stream",
     "text": [
      "CPU times: total: 4min 29s\n",
      "Wall time: 55.3 s\n"
     ]
    },
    {
     "data": {
      "text/plain": [
       "4390"
      ]
     },
     "execution_count": 57,
     "metadata": {},
     "output_type": "execute_result"
    }
   ],
   "source": [
    "%%time\n",
    "angry=knn_und(X,y,'angry', k=15, t=7, algorithm=\"auto\", metric=\"euclidean\")\n",
    "angry.count(False)"
   ]
  },
  {
   "cell_type": "code",
   "execution_count": 58,
   "id": "6uBEEodkEyRS",
   "metadata": {
    "id": "6uBEEodkEyRS"
   },
   "outputs": [
    {
     "name": "stdout",
     "output_type": "stream",
     "text": [
      "CPU times: total: 4min 27s\n",
      "Wall time: 56.4 s\n"
     ]
    },
    {
     "data": {
      "text/plain": [
       "4386"
      ]
     },
     "execution_count": 58,
     "metadata": {},
     "output_type": "execute_result"
    }
   ],
   "source": [
    "%%time\n",
    "fear=knn_und(X,y,'fear', k=15, t=8, algorithm=\"auto\", metric=\"euclidean\")\n",
    "fear.count(False)"
   ]
  },
  {
   "cell_type": "code",
   "execution_count": 59,
   "id": "fZv5DsC3UjLD",
   "metadata": {
    "id": "fZv5DsC3UjLD"
   },
   "outputs": [
    {
     "name": "stdout",
     "output_type": "stream",
     "text": [
      "CPU times: total: 4min 24s\n",
      "Wall time: 56.6 s\n"
     ]
    },
    {
     "data": {
      "text/plain": [
       "5491"
      ]
     },
     "execution_count": 59,
     "metadata": {},
     "output_type": "execute_result"
    }
   ],
   "source": [
    "%%time\n",
    "sad=knn_und(X,y,'sad', k=19, t=10, algorithm=\"auto\", metric=\"euclidean\")\n",
    "sad.count(False)"
   ]
  },
  {
   "cell_type": "code",
   "execution_count": 60,
   "id": "voxpxJxVYpDF",
   "metadata": {
    "id": "voxpxJxVYpDF"
   },
   "outputs": [
    {
     "name": "stdout",
     "output_type": "stream",
     "text": [
      "CPU times: total: 4min 29s\n",
      "Wall time: 57.5 s\n"
     ]
    },
    {
     "data": {
      "text/plain": [
       "5423"
      ]
     },
     "execution_count": 60,
     "metadata": {},
     "output_type": "execute_result"
    }
   ],
   "source": [
    "%%time\n",
    "neutral=knn_und(X,y,'neutral', k=15, t=5, algorithm=\"auto\", metric=\"euclidean\")\n",
    "neutral.count(False)"
   ]
  },
  {
   "cell_type": "code",
   "execution_count": 61,
   "id": "FkmmxBngdxJ1",
   "metadata": {
    "id": "FkmmxBngdxJ1"
   },
   "outputs": [
    {
     "name": "stdout",
     "output_type": "stream",
     "text": [
      "CPU times: total: 3min 53s\n",
      "Wall time: 1min 3s\n"
     ]
    },
    {
     "data": {
      "text/plain": [
       "8190"
      ]
     },
     "execution_count": 61,
     "metadata": {},
     "output_type": "execute_result"
    }
   ],
   "source": [
    "%%time\n",
    "happy=knn_und(X,y,'happy', k=25, t=3, algorithm=\"auto\", metric=\"euclidean\")\n",
    "happy.count(False)"
   ]
  },
  {
   "cell_type": "code",
   "execution_count": 63,
   "id": "65680bd2",
   "metadata": {},
   "outputs": [],
   "source": [
    "estados = [a*b*c*d*e*f for a,b,c,d,e,f in zip(happy,neutral,sad,fear,angry,surprise)]\n",
    "df['estados']=estados\n",
    "train=df[df['estados']!=0]\n",
    "test=df[df['estados']!=1]"
   ]
  },
  {
   "cell_type": "code",
   "execution_count": 64,
   "id": "a75f303b",
   "metadata": {},
   "outputs": [
    {
     "data": {
      "text/html": [
       "<div>\n",
       "<style scoped>\n",
       "    .dataframe tbody tr th:only-of-type {\n",
       "        vertical-align: middle;\n",
       "    }\n",
       "\n",
       "    .dataframe tbody tr th {\n",
       "        vertical-align: top;\n",
       "    }\n",
       "\n",
       "    .dataframe thead th {\n",
       "        text-align: right;\n",
       "    }\n",
       "</style>\n",
       "<table border=\"1\" class=\"dataframe\">\n",
       "  <thead>\n",
       "    <tr style=\"text-align: right;\">\n",
       "      <th></th>\n",
       "      <th>gray_matrix</th>\n",
       "      <th>hog</th>\n",
       "      <th>estados</th>\n",
       "    </tr>\n",
       "    <tr>\n",
       "      <th>label</th>\n",
       "      <th></th>\n",
       "      <th></th>\n",
       "      <th></th>\n",
       "    </tr>\n",
       "  </thead>\n",
       "  <tbody>\n",
       "    <tr>\n",
       "      <th>angry</th>\n",
       "      <td>4953</td>\n",
       "      <td>4953</td>\n",
       "      <td>4953</td>\n",
       "    </tr>\n",
       "    <tr>\n",
       "      <th>disgust</th>\n",
       "      <td>547</td>\n",
       "      <td>547</td>\n",
       "      <td>547</td>\n",
       "    </tr>\n",
       "    <tr>\n",
       "      <th>fear</th>\n",
       "      <td>5121</td>\n",
       "      <td>5121</td>\n",
       "      <td>5121</td>\n",
       "    </tr>\n",
       "    <tr>\n",
       "      <th>happy</th>\n",
       "      <td>8989</td>\n",
       "      <td>8989</td>\n",
       "      <td>8989</td>\n",
       "    </tr>\n",
       "    <tr>\n",
       "      <th>neutral</th>\n",
       "      <td>6198</td>\n",
       "      <td>6198</td>\n",
       "      <td>6198</td>\n",
       "    </tr>\n",
       "    <tr>\n",
       "      <th>sad</th>\n",
       "      <td>6077</td>\n",
       "      <td>6077</td>\n",
       "      <td>6077</td>\n",
       "    </tr>\n",
       "    <tr>\n",
       "      <th>surprise</th>\n",
       "      <td>4002</td>\n",
       "      <td>4002</td>\n",
       "      <td>4002</td>\n",
       "    </tr>\n",
       "  </tbody>\n",
       "</table>\n",
       "</div>"
      ],
      "text/plain": [
       "          gray_matrix   hog  estados\n",
       "label                               \n",
       "angry            4953  4953     4953\n",
       "disgust           547   547      547\n",
       "fear             5121  5121     5121\n",
       "happy            8989  8989     8989\n",
       "neutral          6198  6198     6198\n",
       "sad              6077  6077     6077\n",
       "surprise         4002  4002     4002"
      ]
     },
     "execution_count": 64,
     "metadata": {},
     "output_type": "execute_result"
    }
   ],
   "source": [
    "df.groupby('label').count()"
   ]
  },
  {
   "cell_type": "code",
   "execution_count": 65,
   "id": "3c461b65",
   "metadata": {},
   "outputs": [],
   "source": [
    "X_train=np.array(train['hog'].values.tolist())\n",
    "y_train=train['label']\n",
    "X_test=np.array(test['hog'].values.tolist())\n",
    "y_test=test['label']"
   ]
  },
  {
   "cell_type": "markdown",
   "id": "50573bdc",
   "metadata": {
    "id": "50573bdc"
   },
   "source": [
    "# Comparación inicial de modelos"
   ]
  },
  {
   "cell_type": "code",
   "execution_count": 66,
   "id": "ec556a30",
   "metadata": {
    "id": "ec556a30"
   },
   "outputs": [],
   "source": [
    "from sklearn.model_selection import train_test_split\n",
    "from sklearn.preprocessing import StandardScaler"
   ]
  },
  {
   "cell_type": "code",
   "execution_count": 67,
   "id": "6ae7a320",
   "metadata": {
    "id": "6ae7a320"
   },
   "outputs": [],
   "source": [
    "from sklearn.ensemble import RandomForestClassifier\n",
    "from sklearn.neural_network import MLPClassifier\n",
    "from sklearn.neighbors import KNeighborsClassifier\n",
    "from sklearn.model_selection import KFold\n",
    "from sklearn.model_selection import cross_val_score\n",
    "from sklearn.metrics import accuracy_score, classification_report"
   ]
  },
  {
   "cell_type": "code",
   "execution_count": 68,
   "id": "fcfe2203",
   "metadata": {
    "id": "fcfe2203"
   },
   "outputs": [],
   "source": [
    "# Definimos el pool de algoritmos de ensamble a evaluar\n",
    "algos = []\n",
    "algos.append(('RandomForest', RandomForestClassifier()))\n",
    "algos.append(('Neural Network',MLPClassifier()))\n",
    "algos.append(('KNN',KNeighborsClassifier()))"
   ]
  },
  {
   "cell_type": "markdown",
   "id": "f957434e",
   "metadata": {},
   "source": [
    "## Correlo cuando no estes haciendo nada ubu '3'"
   ]
  },
  {
   "cell_type": "code",
   "execution_count": 36,
   "id": "ca2d5270",
   "metadata": {
    "id": "ca2d5270",
    "outputId": "7413ae66-ed59-43d3-c6ed-e668f6916e10"
   },
   "outputs": [
    {
     "name": "stdout",
     "output_type": "stream",
     "text": [
      "RandomForest: 0.8107421644868623 (0.010822727577633473)\n",
      "Neural Network: 0.8356906150583244 (0.014778036031122111)\n",
      "KNN: 0.8367554789678332 (0.025926827740990283)\n",
      "CPU times: total: 19min 47s\n",
      "Wall time: 8min 41s\n"
     ]
    }
   ],
   "source": [
    "%%time\n",
    "# Evaluamos cada algoritmo en estrategia de 10-fold-CV\n",
    "results = []\n",
    "names = []\n",
    "\n",
    "# genera el particionamiento de 10 folds que seran usados en cada evaluacion\n",
    "kfold = KFold(n_splits=10, random_state=42, shuffle= True)  # especifica el particionador de datos a 10-folds CV\n",
    "\n",
    "for algoname, algo in algos:\n",
    "    cv_results = cross_val_score(algo, X_train, y_train, cv=kfold, scoring='accuracy')\n",
    "    results.append(cv_results)\n",
    "    names.append(algoname)\n",
    "    print(\"{}: {} ({})\".format(algoname, cv_results.mean(), cv_results.std()))"
   ]
  },
  {
   "cell_type": "code",
   "execution_count": 37,
   "id": "339c0619",
   "metadata": {
    "id": "339c0619"
   },
   "outputs": [
    {
     "data": {
      "image/png": "[encoded data removed]",
      "text/plain": [
       "<Figure size 1000x700 with 1 Axes>"
      ]
     },
     "metadata": {},
     "output_type": "display_data"
    }
   ],
   "source": [
    "fig = plt.figure(figsize=[10,7])\n",
    "fig.suptitle('Accuracy  obtenidas en 10-fold-CV')\n",
    "ax = fig.add_subplot(111)\n",
    "plt.boxplot(results)\n",
    "ax.set_xticklabels(names)\n",
    "plt.show()"
   ]
  },
  {
   "cell_type": "markdown",
   "id": "a1e07c27",
   "metadata": {
    "id": "a1e07c27"
   },
   "source": [
    "# Entrenamiento Random Forest"
   ]
  },
  {
   "cell_type": "code",
   "execution_count": 38,
   "id": "99a87827",
   "metadata": {
    "id": "99a87827",
    "outputId": "fa40b188-55b9-4d58-d122-ec5974a2e1b5"
   },
   "outputs": [
    {
     "name": "stdout",
     "output_type": "stream",
     "text": [
      "CPU times: total: 35.2 s\n",
      "Wall time: 37.3 s\n"
     ]
    },
    {
     "data": {
      "text/html": [
       "<style>#sk-container-id-1 {color: black;}#sk-container-id-1 pre{padding: 0;}#sk-container-id-1 div.sk-toggleable {background-color: white;}#sk-container-id-1 label.sk-toggleable__label {cursor: pointer;display: block;width: 100%;margin-bottom: 0;padding: 0.3em;box-sizing: border-box;text-align: center;}#sk-container-id-1 label.sk-toggleable__label-arrow:before {content: \"▸\";float: left;margin-right: 0.25em;color: #696969;}#sk-container-id-1 label.sk-toggleable__label-arrow:hover:before {color: black;}#sk-container-id-1 div.sk-estimator:hover label.sk-toggleable__label-arrow:before {color: black;}#sk-container-id-1 div.sk-toggleable__content {max-height: 0;max-width: 0;overflow: hidden;text-align: left;background-color: #f0f8ff;}#sk-container-id-1 div.sk-toggleable__content pre {margin: 0.2em;color: black;border-radius: 0.25em;background-color: #f0f8ff;}#sk-container-id-1 input.sk-toggleable__control:checked~div.sk-toggleable__content {max-height: 200px;max-width: 100%;overflow: auto;}#sk-container-id-1 input.sk-toggleable__control:checked~label.sk-toggleable__label-arrow:before {content: \"▾\";}#sk-container-id-1 div.sk-estimator input.sk-toggleable__control:checked~label.sk-toggleable__label {background-color: #d4ebff;}#sk-container-id-1 div.sk-label input.sk-toggleable__control:checked~label.sk-toggleable__label {background-color: #d4ebff;}#sk-container-id-1 input.sk-hidden--visually {border: 0;clip: rect(1px 1px 1px 1px);clip: rect(1px, 1px, 1px, 1px);height: 1px;margin: -1px;overflow: hidden;padding: 0;position: absolute;width: 1px;}#sk-container-id-1 div.sk-estimator {font-family: monospace;background-color: #f0f8ff;border: 1px dotted black;border-radius: 0.25em;box-sizing: border-box;margin-bottom: 0.5em;}#sk-container-id-1 div.sk-estimator:hover {background-color: #d4ebff;}#sk-container-id-1 div.sk-parallel-item::after {content: \"\";width: 100%;border-bottom: 1px solid gray;flex-grow: 1;}#sk-container-id-1 div.sk-label:hover label.sk-toggleable__label {background-color: #d4ebff;}#sk-container-id-1 div.sk-serial::before {content: \"\";position: absolute;border-left: 1px solid gray;box-sizing: border-box;top: 0;bottom: 0;left: 50%;z-index: 0;}#sk-container-id-1 div.sk-serial {display: flex;flex-direction: column;align-items: center;background-color: white;padding-right: 0.2em;padding-left: 0.2em;position: relative;}#sk-container-id-1 div.sk-item {position: relative;z-index: 1;}#sk-container-id-1 div.sk-parallel {display: flex;align-items: stretch;justify-content: center;background-color: white;position: relative;}#sk-container-id-1 div.sk-item::before, #sk-container-id-1 div.sk-parallel-item::before {content: \"\";position: absolute;border-left: 1px solid gray;box-sizing: border-box;top: 0;bottom: 0;left: 50%;z-index: -1;}#sk-container-id-1 div.sk-parallel-item {display: flex;flex-direction: column;z-index: 1;position: relative;background-color: white;}#sk-container-id-1 div.sk-parallel-item:first-child::after {align-self: flex-end;width: 50%;}#sk-container-id-1 div.sk-parallel-item:last-child::after {align-self: flex-start;width: 50%;}#sk-container-id-1 div.sk-parallel-item:only-child::after {width: 0;}#sk-container-id-1 div.sk-dashed-wrapped {border: 1px dashed gray;margin: 0 0.4em 0.5em 0.4em;box-sizing: border-box;padding-bottom: 0.4em;background-color: white;}#sk-container-id-1 div.sk-label label {font-family: monospace;font-weight: bold;display: inline-block;line-height: 1.2em;}#sk-container-id-1 div.sk-label-container {text-align: center;}#sk-container-id-1 div.sk-container {/* jupyter's `normalize.less` sets `[hidden] { display: none; }` but bootstrap.min.css set `[hidden] { display: none !important; }` so we also need the `!important` here to be able to override the default hidden behavior on the sphinx rendered scikit-learn.org. See: https://github.com/scikit-learn/scikit-learn/issues/21755 */display: inline-block !important;position: relative;}#sk-container-id-1 div.sk-text-repr-fallback {display: none;}</style><div id=\"sk-container-id-1\" class=\"sk-top-container\"><div class=\"sk-text-repr-fallback\"><pre>RandomForestClassifier(random_state=42)</pre><b>In a Jupyter environment, please rerun this cell to show the HTML representation or trust the notebook. <br />On GitHub, the HTML representation is unable to render, please try loading this page with nbviewer.org.</b></div><div class=\"sk-container\" hidden><div class=\"sk-item\"><div class=\"sk-estimator sk-toggleable\"><input class=\"sk-toggleable__control sk-hidden--visually\" id=\"sk-estimator-id-1\" type=\"checkbox\" checked><label for=\"sk-estimator-id-1\" class=\"sk-toggleable__label sk-toggleable__label-arrow\">RandomForestClassifier</label><div class=\"sk-toggleable__content\"><pre>RandomForestClassifier(random_state=42)</pre></div></div></div></div></div>"
      ],
      "text/plain": [
       "RandomForestClassifier(random_state=42)"
      ]
     },
     "execution_count": 38,
     "metadata": {},
     "output_type": "execute_result"
    }
   ],
   "source": [
    "%%time\n",
    "# Crear el modelo\n",
    "rf_classifier = RandomForestClassifier(n_estimators=100, random_state=42)\n",
    "\n",
    "# Entrenar el modelo\n",
    "rf_classifier.fit(X_train, y_train)"
   ]
  },
  {
   "cell_type": "code",
   "execution_count": 39,
   "id": "ce2f8eb3",
   "metadata": {
    "id": "ce2f8eb3",
    "outputId": "b829194b-599e-49b1-8a56-f242641cd78b"
   },
   "outputs": [
    {
     "name": "stdout",
     "output_type": "stream",
     "text": [
      "Precisión del modelo: 1.0\n",
      "              precision    recall  f1-score   support\n",
      "\n",
      "       angry       1.00      1.00      1.00       445\n",
      "     disgust       1.00      1.00      1.00       425\n",
      "        fear       1.00      1.00      1.00       598\n",
      "       happy       1.00      1.00      1.00       643\n",
      "     neutral       1.00      1.00      1.00       620\n",
      "         sad       1.00      1.00      1.00       479\n",
      "    surprise       1.00      1.00      1.00       478\n",
      "\n",
      "    accuracy                           1.00      3688\n",
      "   macro avg       1.00      1.00      1.00      3688\n",
      "weighted avg       1.00      1.00      1.00      3688\n",
      "\n"
     ]
    }
   ],
   "source": [
    "y_pred_e= rf_classifier.predict(X_train)\n",
    "accuracy = accuracy_score(y_train, y_pred_e)\n",
    "print(f'Precisión del modelo: {accuracy}')\n",
    "\n",
    "print(classification_report(y_train, y_pred_e))"
   ]
  },
  {
   "cell_type": "code",
   "execution_count": 40,
   "id": "4db3a0cf",
   "metadata": {
    "id": "4db3a0cf",
    "outputId": "7e9814c6-1ef4-4aea-f0c6-92cf0bbdad77"
   },
   "outputs": [
    {
     "name": "stdout",
     "output_type": "stream",
     "text": [
      "Precisión del modelo: 0.7908992416034669\n",
      "              precision    recall  f1-score   support\n",
      "\n",
      "       angry       0.94      0.64      0.76       118\n",
      "     disgust       0.86      0.56      0.68       122\n",
      "        fear       0.65      0.74      0.69       137\n",
      "       happy       0.84      1.00      0.91       156\n",
      "     neutral       0.82      0.85      0.83       155\n",
      "         sad       0.61      0.78      0.69       107\n",
      "    surprise       0.91      0.90      0.90       128\n",
      "\n",
      "    accuracy                           0.79       923\n",
      "   macro avg       0.80      0.78      0.78       923\n",
      "weighted avg       0.81      0.79      0.79       923\n",
      "\n"
     ]
    }
   ],
   "source": [
    "# Realizar predicciones en el conjunto de prueba\n",
    "y_pred = rf_classifier.predict(X_test)\n",
    "\n",
    "# Evaluar el modelo\n",
    "accuracy = accuracy_score(y_test, y_pred)\n",
    "print(f'Precisión del modelo: {accuracy}')\n",
    "\n",
    "print(classification_report(y_test, y_pred))"
   ]
  },
  {
   "cell_type": "markdown",
   "id": "7103b534",
   "metadata": {
    "id": "7103b534"
   },
   "source": [
    "# Optimización de Hiperparámetros (GridSearch)"
   ]
  },
  {
   "cell_type": "code",
   "execution_count": 41,
   "id": "ab6e2940",
   "metadata": {
    "id": "ab6e2940",
    "outputId": "09f507d0-577b-4ba7-e59e-30218e1bf25c"
   },
   "outputs": [
    {
     "name": "stdout",
     "output_type": "stream",
     "text": [
      "Fitting 5 folds for each of 108 candidates, totalling 540 fits\n",
      "Mejores hiperparámetros: {'max_depth': 30, 'min_samples_leaf': 10, 'min_samples_split': 10, 'n_estimators': 150}\n",
      "Precisión del modelo: 0.7746478873239436\n",
      "              precision    recall  f1-score   support\n",
      "\n",
      "       angry       0.89      0.60      0.72       118\n",
      "     disgust       0.88      0.47      0.61       122\n",
      "        fear       0.66      0.77      0.71       137\n",
      "       happy       0.82      0.99      0.90       156\n",
      "     neutral       0.78      0.86      0.82       155\n",
      "         sad       0.62      0.76      0.68       107\n",
      "    surprise       0.89      0.88      0.88       128\n",
      "\n",
      "    accuracy                           0.77       923\n",
      "   macro avg       0.79      0.76      0.76       923\n",
      "weighted avg       0.79      0.77      0.77       923\n",
      "\n",
      "CPU times: total: 1min 14s\n",
      "Wall time: 55min 32s\n"
     ]
    }
   ],
   "source": [
    "%%time\n",
    "from sklearn.model_selection import GridSearchCV\n",
    "\n",
    "# Define el modelo de Random Forest\n",
    "rf_classifier = RandomForestClassifier()\n",
    "\n",
    "# Define una cuadrícula de hiperparámetros que deseas explorar\n",
    "param_grid = {\n",
    "    'n_estimators': [150,200,250,300],        # Número de árboles en el bosque\n",
    "    'max_depth': [10,20,30],      # Profundidad máxima de los árboles\n",
    "    'min_samples_split': [10,20,30],     # Mínimo de muestras requeridas para dividir un nodo\n",
    "    'min_samples_leaf': [10,20,30]       # Mínimo de muestras requeridas en una hoja\n",
    "}\n",
    "\n",
    "# Realiza la búsqueda en cuadrícula con validación cruzada\n",
    "grid_search = GridSearchCV(estimator=rf_classifier, param_grid=param_grid, cv=5, scoring='accuracy', verbose=10,n_jobs=8)\n",
    "grid_search.fit(X_train, y_train)\n",
    "\n",
    "# Muestra los mejores hiperparámetros encontrados\n",
    "best_params = grid_search.best_params_\n",
    "print(f\"Mejores hiperparámetros: {best_params}\")\n",
    "\n",
    "# Entrena el modelo con los mejores hiperparámetros en todo el conjunto de entrenamiento\n",
    "best_rf_classifier = grid_search.best_estimator_\n",
    "best_rf_classifier.fit(X_train, y_train)\n",
    "\n",
    "# Evalúa el modelo en el conjunto de prueba\n",
    "y_pred = best_rf_classifier.predict(X_test)\n",
    "\n",
    "# Evaluar el modelo\n",
    "accuracy = accuracy_score(y_test, y_pred)\n",
    "print(f'Precisión del modelo: {accuracy}')\n",
    "\n",
    "print(classification_report(y_test, y_pred))\n"
   ]
  },
  {
   "cell_type": "markdown",
   "id": "a268433e",
   "metadata": {
    "id": "a268433e"
   },
   "source": [
    "# Redes Neuronales"
   ]
  },
  {
   "cell_type": "code",
   "execution_count": 42,
   "id": "8ff691e3",
   "metadata": {
    "id": "8ff691e3",
    "outputId": "47183ecc-03aa-4b8a-cce0-da101e6eda01"
   },
   "outputs": [
    {
     "data": {
      "text/html": [
       "<style>#sk-container-id-2 {color: black;}#sk-container-id-2 pre{padding: 0;}#sk-container-id-2 div.sk-toggleable {background-color: white;}#sk-container-id-2 label.sk-toggleable__label {cursor: pointer;display: block;width: 100%;margin-bottom: 0;padding: 0.3em;box-sizing: border-box;text-align: center;}#sk-container-id-2 label.sk-toggleable__label-arrow:before {content: \"▸\";float: left;margin-right: 0.25em;color: #696969;}#sk-container-id-2 label.sk-toggleable__label-arrow:hover:before {color: black;}#sk-container-id-2 div.sk-estimator:hover label.sk-toggleable__label-arrow:before {color: black;}#sk-container-id-2 div.sk-toggleable__content {max-height: 0;max-width: 0;overflow: hidden;text-align: left;background-color: #f0f8ff;}#sk-container-id-2 div.sk-toggleable__content pre {margin: 0.2em;color: black;border-radius: 0.25em;background-color: #f0f8ff;}#sk-container-id-2 input.sk-toggleable__control:checked~div.sk-toggleable__content {max-height: 200px;max-width: 100%;overflow: auto;}#sk-container-id-2 input.sk-toggleable__control:checked~label.sk-toggleable__label-arrow:before {content: \"▾\";}#sk-container-id-2 div.sk-estimator input.sk-toggleable__control:checked~label.sk-toggleable__label {background-color: #d4ebff;}#sk-container-id-2 div.sk-label input.sk-toggleable__control:checked~label.sk-toggleable__label {background-color: #d4ebff;}#sk-container-id-2 input.sk-hidden--visually {border: 0;clip: rect(1px 1px 1px 1px);clip: rect(1px, 1px, 1px, 1px);height: 1px;margin: -1px;overflow: hidden;padding: 0;position: absolute;width: 1px;}#sk-container-id-2 div.sk-estimator {font-family: monospace;background-color: #f0f8ff;border: 1px dotted black;border-radius: 0.25em;box-sizing: border-box;margin-bottom: 0.5em;}#sk-container-id-2 div.sk-estimator:hover {background-color: #d4ebff;}#sk-container-id-2 div.sk-parallel-item::after {content: \"\";width: 100%;border-bottom: 1px solid gray;flex-grow: 1;}#sk-container-id-2 div.sk-label:hover label.sk-toggleable__label {background-color: #d4ebff;}#sk-container-id-2 div.sk-serial::before {content: \"\";position: absolute;border-left: 1px solid gray;box-sizing: border-box;top: 0;bottom: 0;left: 50%;z-index: 0;}#sk-container-id-2 div.sk-serial {display: flex;flex-direction: column;align-items: center;background-color: white;padding-right: 0.2em;padding-left: 0.2em;position: relative;}#sk-container-id-2 div.sk-item {position: relative;z-index: 1;}#sk-container-id-2 div.sk-parallel {display: flex;align-items: stretch;justify-content: center;background-color: white;position: relative;}#sk-container-id-2 div.sk-item::before, #sk-container-id-2 div.sk-parallel-item::before {content: \"\";position: absolute;border-left: 1px solid gray;box-sizing: border-box;top: 0;bottom: 0;left: 50%;z-index: -1;}#sk-container-id-2 div.sk-parallel-item {display: flex;flex-direction: column;z-index: 1;position: relative;background-color: white;}#sk-container-id-2 div.sk-parallel-item:first-child::after {align-self: flex-end;width: 50%;}#sk-container-id-2 div.sk-parallel-item:last-child::after {align-self: flex-start;width: 50%;}#sk-container-id-2 div.sk-parallel-item:only-child::after {width: 0;}#sk-container-id-2 div.sk-dashed-wrapped {border: 1px dashed gray;margin: 0 0.4em 0.5em 0.4em;box-sizing: border-box;padding-bottom: 0.4em;background-color: white;}#sk-container-id-2 div.sk-label label {font-family: monospace;font-weight: bold;display: inline-block;line-height: 1.2em;}#sk-container-id-2 div.sk-label-container {text-align: center;}#sk-container-id-2 div.sk-container {/* jupyter's `normalize.less` sets `[hidden] { display: none; }` but bootstrap.min.css set `[hidden] { display: none !important; }` so we also need the `!important` here to be able to override the default hidden behavior on the sphinx rendered scikit-learn.org. See: https://github.com/scikit-learn/scikit-learn/issues/21755 */display: inline-block !important;position: relative;}#sk-container-id-2 div.sk-text-repr-fallback {display: none;}</style><div id=\"sk-container-id-2\" class=\"sk-top-container\"><div class=\"sk-text-repr-fallback\"><pre>MLPClassifier(hidden_layer_sizes=(100, 50), max_iter=250, random_state=42)</pre><b>In a Jupyter environment, please rerun this cell to show the HTML representation or trust the notebook. <br />On GitHub, the HTML representation is unable to render, please try loading this page with nbviewer.org.</b></div><div class=\"sk-container\" hidden><div class=\"sk-item\"><div class=\"sk-estimator sk-toggleable\"><input class=\"sk-toggleable__control sk-hidden--visually\" id=\"sk-estimator-id-2\" type=\"checkbox\" checked><label for=\"sk-estimator-id-2\" class=\"sk-toggleable__label sk-toggleable__label-arrow\">MLPClassifier</label><div class=\"sk-toggleable__content\"><pre>MLPClassifier(hidden_layer_sizes=(100, 50), max_iter=250, random_state=42)</pre></div></div></div></div></div>"
      ],
      "text/plain": [
       "MLPClassifier(hidden_layer_sizes=(100, 50), max_iter=250, random_state=42)"
      ]
     },
     "execution_count": 42,
     "metadata": {},
     "output_type": "execute_result"
    }
   ],
   "source": [
    "mlp = MLPClassifier(hidden_layer_sizes=(100, 50), max_iter=250, random_state=42)\n",
    "mlp.fit(X_train, y_train)"
   ]
  },
  {
   "cell_type": "code",
   "execution_count": 43,
   "id": "ea1d5177",
   "metadata": {
    "id": "ea1d5177",
    "outputId": "a9c32127-1185-4659-e3c5-964449d5f69f"
   },
   "outputs": [
    {
     "name": "stdout",
     "output_type": "stream",
     "text": [
      "Precisión del modelo: 1.0\n",
      "              precision    recall  f1-score   support\n",
      "\n",
      "       angry       1.00      1.00      1.00       445\n",
      "     disgust       1.00      1.00      1.00       425\n",
      "        fear       1.00      1.00      1.00       598\n",
      "       happy       1.00      1.00      1.00       643\n",
      "     neutral       1.00      1.00      1.00       620\n",
      "         sad       1.00      1.00      1.00       479\n",
      "    surprise       1.00      1.00      1.00       478\n",
      "\n",
      "    accuracy                           1.00      3688\n",
      "   macro avg       1.00      1.00      1.00      3688\n",
      "weighted avg       1.00      1.00      1.00      3688\n",
      "\n"
     ]
    }
   ],
   "source": [
    "y_pred_e= mlp.predict(X_train)\n",
    "accuracy = accuracy_score(y_train, y_pred_e)\n",
    "print(f'Precisión del modelo: {accuracy}')\n",
    "\n",
    "print(classification_report(y_train, y_pred_e))"
   ]
  },
  {
   "cell_type": "code",
   "execution_count": 44,
   "id": "129f1ea2",
   "metadata": {
    "id": "129f1ea2",
    "outputId": "b314ebf4-66c7-41c2-a782-c68904e70f33"
   },
   "outputs": [
    {
     "name": "stdout",
     "output_type": "stream",
     "text": [
      "Precisión del modelo: 0.8136511375947996\n",
      "              precision    recall  f1-score   support\n",
      "\n",
      "       angry       0.83      0.74      0.78       118\n",
      "     disgust       0.66      0.70      0.68       122\n",
      "        fear       0.69      0.76      0.72       137\n",
      "       happy       0.97      0.97      0.97       156\n",
      "     neutral       0.91      0.88      0.89       155\n",
      "         sad       0.67      0.66      0.67       107\n",
      "    surprise       0.91      0.91      0.91       128\n",
      "\n",
      "    accuracy                           0.81       923\n",
      "   macro avg       0.81      0.80      0.80       923\n",
      "weighted avg       0.82      0.81      0.81       923\n",
      "\n"
     ]
    }
   ],
   "source": [
    "# Realizar predicciones en el conjunto de prueba\n",
    "y_pred = mlp.predict(X_test)\n",
    "\n",
    "# Evaluar el modelo\n",
    "accuracy = accuracy_score(y_test, y_pred)\n",
    "print(f'Precisión del modelo: {accuracy}')\n",
    "\n",
    "print(classification_report(y_test, y_pred))"
   ]
  },
  {
   "cell_type": "markdown",
   "id": "65815e8f",
   "metadata": {
    "id": "65815e8f"
   },
   "source": [
    "# KNN"
   ]
  },
  {
   "cell_type": "code",
   "execution_count": 45,
   "id": "f4d2b279",
   "metadata": {
    "id": "f4d2b279",
    "outputId": "ab12a11d-c5cf-4cb4-891a-80be149b165c"
   },
   "outputs": [
    {
     "data": {
      "text/html": [
       "<style>#sk-container-id-3 {color: black;}#sk-container-id-3 pre{padding: 0;}#sk-container-id-3 div.sk-toggleable {background-color: white;}#sk-container-id-3 label.sk-toggleable__label {cursor: pointer;display: block;width: 100%;margin-bottom: 0;padding: 0.3em;box-sizing: border-box;text-align: center;}#sk-container-id-3 label.sk-toggleable__label-arrow:before {content: \"▸\";float: left;margin-right: 0.25em;color: #696969;}#sk-container-id-3 label.sk-toggleable__label-arrow:hover:before {color: black;}#sk-container-id-3 div.sk-estimator:hover label.sk-toggleable__label-arrow:before {color: black;}#sk-container-id-3 div.sk-toggleable__content {max-height: 0;max-width: 0;overflow: hidden;text-align: left;background-color: #f0f8ff;}#sk-container-id-3 div.sk-toggleable__content pre {margin: 0.2em;color: black;border-radius: 0.25em;background-color: #f0f8ff;}#sk-container-id-3 input.sk-toggleable__control:checked~div.sk-toggleable__content {max-height: 200px;max-width: 100%;overflow: auto;}#sk-container-id-3 input.sk-toggleable__control:checked~label.sk-toggleable__label-arrow:before {content: \"▾\";}#sk-container-id-3 div.sk-estimator input.sk-toggleable__control:checked~label.sk-toggleable__label {background-color: #d4ebff;}#sk-container-id-3 div.sk-label input.sk-toggleable__control:checked~label.sk-toggleable__label {background-color: #d4ebff;}#sk-container-id-3 input.sk-hidden--visually {border: 0;clip: rect(1px 1px 1px 1px);clip: rect(1px, 1px, 1px, 1px);height: 1px;margin: -1px;overflow: hidden;padding: 0;position: absolute;width: 1px;}#sk-container-id-3 div.sk-estimator {font-family: monospace;background-color: #f0f8ff;border: 1px dotted black;border-radius: 0.25em;box-sizing: border-box;margin-bottom: 0.5em;}#sk-container-id-3 div.sk-estimator:hover {background-color: #d4ebff;}#sk-container-id-3 div.sk-parallel-item::after {content: \"\";width: 100%;border-bottom: 1px solid gray;flex-grow: 1;}#sk-container-id-3 div.sk-label:hover label.sk-toggleable__label {background-color: #d4ebff;}#sk-container-id-3 div.sk-serial::before {content: \"\";position: absolute;border-left: 1px solid gray;box-sizing: border-box;top: 0;bottom: 0;left: 50%;z-index: 0;}#sk-container-id-3 div.sk-serial {display: flex;flex-direction: column;align-items: center;background-color: white;padding-right: 0.2em;padding-left: 0.2em;position: relative;}#sk-container-id-3 div.sk-item {position: relative;z-index: 1;}#sk-container-id-3 div.sk-parallel {display: flex;align-items: stretch;justify-content: center;background-color: white;position: relative;}#sk-container-id-3 div.sk-item::before, #sk-container-id-3 div.sk-parallel-item::before {content: \"\";position: absolute;border-left: 1px solid gray;box-sizing: border-box;top: 0;bottom: 0;left: 50%;z-index: -1;}#sk-container-id-3 div.sk-parallel-item {display: flex;flex-direction: column;z-index: 1;position: relative;background-color: white;}#sk-container-id-3 div.sk-parallel-item:first-child::after {align-self: flex-end;width: 50%;}#sk-container-id-3 div.sk-parallel-item:last-child::after {align-self: flex-start;width: 50%;}#sk-container-id-3 div.sk-parallel-item:only-child::after {width: 0;}#sk-container-id-3 div.sk-dashed-wrapped {border: 1px dashed gray;margin: 0 0.4em 0.5em 0.4em;box-sizing: border-box;padding-bottom: 0.4em;background-color: white;}#sk-container-id-3 div.sk-label label {font-family: monospace;font-weight: bold;display: inline-block;line-height: 1.2em;}#sk-container-id-3 div.sk-label-container {text-align: center;}#sk-container-id-3 div.sk-container {/* jupyter's `normalize.less` sets `[hidden] { display: none; }` but bootstrap.min.css set `[hidden] { display: none !important; }` so we also need the `!important` here to be able to override the default hidden behavior on the sphinx rendered scikit-learn.org. See: https://github.com/scikit-learn/scikit-learn/issues/21755 */display: inline-block !important;position: relative;}#sk-container-id-3 div.sk-text-repr-fallback {display: none;}</style><div id=\"sk-container-id-3\" class=\"sk-top-container\"><div class=\"sk-text-repr-fallback\"><pre>KNeighborsClassifier()</pre><b>In a Jupyter environment, please rerun this cell to show the HTML representation or trust the notebook. <br />On GitHub, the HTML representation is unable to render, please try loading this page with nbviewer.org.</b></div><div class=\"sk-container\" hidden><div class=\"sk-item\"><div class=\"sk-estimator sk-toggleable\"><input class=\"sk-toggleable__control sk-hidden--visually\" id=\"sk-estimator-id-3\" type=\"checkbox\" checked><label for=\"sk-estimator-id-3\" class=\"sk-toggleable__label sk-toggleable__label-arrow\">KNeighborsClassifier</label><div class=\"sk-toggleable__content\"><pre>KNeighborsClassifier()</pre></div></div></div></div></div>"
      ],
      "text/plain": [
       "KNeighborsClassifier()"
      ]
     },
     "execution_count": 45,
     "metadata": {},
     "output_type": "execute_result"
    }
   ],
   "source": [
    "knn = KNeighborsClassifier(n_neighbors=5)  # Cambia 5 por el número de vecinos que desees utilizar\n",
    "knn.fit(X_train, y_train)"
   ]
  },
  {
   "cell_type": "code",
   "execution_count": 46,
   "id": "412473ff",
   "metadata": {
    "id": "412473ff",
    "outputId": "b22c867a-96a4-4d19-81a4-dfe07a1abbfb"
   },
   "outputs": [
    {
     "name": "stdout",
     "output_type": "stream",
     "text": [
      "Precisión del modelo: 0.9113340563991323\n",
      "              precision    recall  f1-score   support\n",
      "\n",
      "       angry       0.89      0.95      0.92       445\n",
      "     disgust       0.89      0.73      0.80       425\n",
      "        fear       0.91      0.90      0.91       598\n",
      "       happy       0.91      1.00      0.95       643\n",
      "     neutral       0.90      0.98      0.94       620\n",
      "         sad       0.96      0.79      0.87       479\n",
      "    surprise       0.93      0.96      0.95       478\n",
      "\n",
      "    accuracy                           0.91      3688\n",
      "   macro avg       0.91      0.90      0.90      3688\n",
      "weighted avg       0.91      0.91      0.91      3688\n",
      "\n"
     ]
    }
   ],
   "source": [
    "y_pred_e= knn.predict(X_train)\n",
    "accuracy = accuracy_score(y_train, y_pred_e)\n",
    "print(f'Precisión del modelo: {accuracy}')\n",
    "\n",
    "print(classification_report(y_train, y_pred_e))"
   ]
  },
  {
   "cell_type": "code",
   "execution_count": 47,
   "id": "2e105a2f",
   "metadata": {
    "id": "2e105a2f",
    "outputId": "cdcbdce7-09fc-495b-b8cd-7264a3f927c1"
   },
   "outputs": [
    {
     "name": "stdout",
     "output_type": "stream",
     "text": [
      "Precisión del modelo: 0.8136511375947996\n",
      "              precision    recall  f1-score   support\n",
      "\n",
      "       angry       0.82      0.83      0.82       118\n",
      "     disgust       0.78      0.50      0.61       122\n",
      "        fear       0.69      0.85      0.76       137\n",
      "       happy       0.84      1.00      0.91       156\n",
      "     neutral       0.85      0.92      0.88       155\n",
      "         sad       0.92      0.57      0.71       107\n",
      "    surprise       0.85      0.91      0.88       128\n",
      "\n",
      "    accuracy                           0.81       923\n",
      "   macro avg       0.82      0.80      0.80       923\n",
      "weighted avg       0.82      0.81      0.80       923\n",
      "\n"
     ]
    }
   ],
   "source": [
    "# Realizar predicciones en el conjunto de prueba\n",
    "y_pred = knn.predict(X_test)\n",
    "\n",
    "# Evaluar el modelo\n",
    "accuracy = accuracy_score(y_test, y_pred)\n",
    "print(f'Precisión del modelo: {accuracy}')\n",
    "\n",
    "print(classification_report(y_test, y_pred))"
   ]
  }
 ],
 "metadata": {
  "colab": {
   "provenance": []
  },
  "kernelspec": {
   "display_name": "Python 3 (ipykernel)",
   "language": "python",
   "name": "python3"
  },
  "language_info": {
   "codemirror_mode": {
    "name": "ipython",
    "version": 3
   },
   "file_extension": ".py",
   "mimetype": "text/x-python",
   "name": "python",
   "nbconvert_exporter": "python",
   "pygments_lexer": "ipython3",
   "version": "3.11.4"
  }
 },
 "nbformat": 4,
 "nbformat_minor": 5
}
