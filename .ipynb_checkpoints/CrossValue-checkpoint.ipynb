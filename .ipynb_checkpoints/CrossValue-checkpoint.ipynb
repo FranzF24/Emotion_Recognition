{
 "cells": [
  {
   "cell_type": "markdown",
   "id": "0be02f0b",
   "metadata": {},
   "source": [
    "## Nota\n",
    "\n",
    "Para esta primera ejecucion, y la que estara en git, estaba usando la compu, de modo que los tiempos no son los mas optimos"
   ]
  },
  {
   "cell_type": "code",
   "execution_count": 1,
   "id": "7c0a844f",
   "metadata": {},
   "outputs": [],
   "source": [
    "import os\n",
    "import re\n",
    "\n",
    "import numpy as np\n",
    "import pandas as pd\n",
    "import matplotlib.pyplot as plt\n",
    "\n",
    "import cv2\n",
    "import PIL.Image as Image\n",
    "\n",
    "from skimage import io, color, transform\n",
    "from skimage.feature import hog\n",
    "\n",
    "import time\n",
    "\n",
    "from sklearn.model_selection import train_test_split\n",
    "from sklearn.preprocessing import StandardScaler\n",
    "\n",
    "from sklearn.model_selection import GridSearchCV\n",
    "from sklearn.ensemble import RandomForestClassifier\n",
    "from sklearn.neural_network import MLPClassifier\n",
    "from sklearn.neighbors import KNeighborsClassifier\n",
    "from sklearn.model_selection import KFold\n",
    "from sklearn.model_selection import cross_val_score\n",
    "from sklearn.metrics import accuracy_score, classification_report"
   ]
  },
  {
   "cell_type": "markdown",
   "id": "f702e06f",
   "metadata": {},
   "source": [
    "## Carga de la base (ya guardada)"
   ]
  },
  {
   "cell_type": "code",
   "execution_count": 2,
   "id": "e02a863f",
   "metadata": {},
   "outputs": [],
   "source": [
    "gray_matrix = np.load('DatosDF\\gray_matrix.npy', allow_pickle=True)\n",
    "hog = np.load('DatosDF\\hog.npy', allow_pickle=True)\n",
    "estados = np.load('DatosDF\\estados.npy', allow_pickle=True)\n",
    "label = np.load('DatosDF\\labels.npy', allow_pickle=True)"
   ]
  },
  {
   "cell_type": "code",
   "execution_count": 3,
   "id": "10760d59",
   "metadata": {},
   "outputs": [],
   "source": [
    "df = pd.DataFrame({'gray_matrix': gray_matrix,'hog': hog,'estados': estados,'label': label})"
   ]
  },
  {
   "cell_type": "markdown",
   "id": "59e6d261",
   "metadata": {},
   "source": [
    "### Separacion en el df por usar, y el entrenamiento y testeo"
   ]
  },
  {
   "cell_type": "code",
   "execution_count": 4,
   "id": "9f1fb38b",
   "metadata": {},
   "outputs": [
    {
     "data": {
      "text/html": [
       "<div>\n",
       "<style scoped>\n",
       "    .dataframe tbody tr th:only-of-type {\n",
       "        vertical-align: middle;\n",
       "    }\n",
       "\n",
       "    .dataframe tbody tr th {\n",
       "        vertical-align: top;\n",
       "    }\n",
       "\n",
       "    .dataframe thead th {\n",
       "        text-align: right;\n",
       "    }\n",
       "</style>\n",
       "<table border=\"1\" class=\"dataframe\">\n",
       "  <thead>\n",
       "    <tr style=\"text-align: right;\">\n",
       "      <th></th>\n",
       "      <th>gray_matrix</th>\n",
       "      <th>hog</th>\n",
       "      <th>estados</th>\n",
       "      <th>label</th>\n",
       "    </tr>\n",
       "  </thead>\n",
       "  <tbody>\n",
       "    <tr>\n",
       "      <th>16</th>\n",
       "      <td>[[175, 166, 185, 198, 202, 213, 212, 209, 210,...</td>\n",
       "      <td>[0.20444939, 0.034390625, 0.026585897, 0.01487...</td>\n",
       "      <td>1</td>\n",
       "      <td>angry</td>\n",
       "    </tr>\n",
       "    <tr>\n",
       "      <th>23</th>\n",
       "      <td>[[26, 29, 30, 35, 45, 60, 108, 145, 161, 161, ...</td>\n",
       "      <td>[0.46974203, 0.15378156, 0.0056655, 0.0, 0.002...</td>\n",
       "      <td>1</td>\n",
       "      <td>angry</td>\n",
       "    </tr>\n",
       "    <tr>\n",
       "      <th>30</th>\n",
       "      <td>[[17, 18, 19, 19, 17, 15, 16, 17, 18, 20, 18, ...</td>\n",
       "      <td>[0.16117984, 0.10060929, 0.12280247, 0.0026138...</td>\n",
       "      <td>1</td>\n",
       "      <td>angry</td>\n",
       "    </tr>\n",
       "    <tr>\n",
       "      <th>31</th>\n",
       "      <td>[[0, 0, 0, 0, 0, 0, 0, 0, 2, 3, 0, 1, 13, 37, ...</td>\n",
       "      <td>[0.17848918, 0.014774916, 0.0, 0.0, 0.0, 0.0, ...</td>\n",
       "      <td>1</td>\n",
       "      <td>angry</td>\n",
       "    </tr>\n",
       "    <tr>\n",
       "      <th>45</th>\n",
       "      <td>[[254, 254, 254, 254, 254, 254, 254, 254, 254,...</td>\n",
       "      <td>[0.025827257, 0.01296422, 0.020755643, 0.0, 0....</td>\n",
       "      <td>1</td>\n",
       "      <td>angry</td>\n",
       "    </tr>\n",
       "    <tr>\n",
       "      <th>...</th>\n",
       "      <td>...</td>\n",
       "      <td>...</td>\n",
       "      <td>...</td>\n",
       "      <td>...</td>\n",
       "    </tr>\n",
       "    <tr>\n",
       "      <th>35863</th>\n",
       "      <td>[[9, 38, 69, 99, 86, 102, 111, 105, 65, 58, 64...</td>\n",
       "      <td>[0.23134665, 0.3235038, 0.13396424, 0.05265233...</td>\n",
       "      <td>1</td>\n",
       "      <td>surprise</td>\n",
       "    </tr>\n",
       "    <tr>\n",
       "      <th>35869</th>\n",
       "      <td>[[253, 253, 254, 253, 170, 101, 105, 102, 85, ...</td>\n",
       "      <td>[0.4190711, 0.32569548, 0.0045682807, 0.002312...</td>\n",
       "      <td>1</td>\n",
       "      <td>surprise</td>\n",
       "    </tr>\n",
       "    <tr>\n",
       "      <th>35875</th>\n",
       "      <td>[[252, 247, 146, 93, 94, 89, 99, 94, 93, 83, 9...</td>\n",
       "      <td>[0.32172725, 0.29283354, 0.09000543, 0.0720573...</td>\n",
       "      <td>1</td>\n",
       "      <td>surprise</td>\n",
       "    </tr>\n",
       "    <tr>\n",
       "      <th>35878</th>\n",
       "      <td>[[33, 44, 49, 40, 35, 28, 23, 14, 9, 16, 17, 5...</td>\n",
       "      <td>[0.20763314, 0.31089163, 0.1581842, 0.02511550...</td>\n",
       "      <td>1</td>\n",
       "      <td>surprise</td>\n",
       "    </tr>\n",
       "    <tr>\n",
       "      <th>35884</th>\n",
       "      <td>[[124, 129, 125, 123, 129, 128, 127, 128, 131,...</td>\n",
       "      <td>[0.20560372, 0.04748373, 0.03934206, 0.0998374...</td>\n",
       "      <td>1</td>\n",
       "      <td>surprise</td>\n",
       "    </tr>\n",
       "  </tbody>\n",
       "</table>\n",
       "<p>4611 rows × 4 columns</p>\n",
       "</div>"
      ],
      "text/plain": [
       "                                             gray_matrix  \\\n",
       "16     [[175, 166, 185, 198, 202, 213, 212, 209, 210,...   \n",
       "23     [[26, 29, 30, 35, 45, 60, 108, 145, 161, 161, ...   \n",
       "30     [[17, 18, 19, 19, 17, 15, 16, 17, 18, 20, 18, ...   \n",
       "31     [[0, 0, 0, 0, 0, 0, 0, 0, 2, 3, 0, 1, 13, 37, ...   \n",
       "45     [[254, 254, 254, 254, 254, 254, 254, 254, 254,...   \n",
       "...                                                  ...   \n",
       "35863  [[9, 38, 69, 99, 86, 102, 111, 105, 65, 58, 64...   \n",
       "35869  [[253, 253, 254, 253, 170, 101, 105, 102, 85, ...   \n",
       "35875  [[252, 247, 146, 93, 94, 89, 99, 94, 93, 83, 9...   \n",
       "35878  [[33, 44, 49, 40, 35, 28, 23, 14, 9, 16, 17, 5...   \n",
       "35884  [[124, 129, 125, 123, 129, 128, 127, 128, 131,...   \n",
       "\n",
       "                                                     hog  estados     label  \n",
       "16     [0.20444939, 0.034390625, 0.026585897, 0.01487...        1     angry  \n",
       "23     [0.46974203, 0.15378156, 0.0056655, 0.0, 0.002...        1     angry  \n",
       "30     [0.16117984, 0.10060929, 0.12280247, 0.0026138...        1     angry  \n",
       "31     [0.17848918, 0.014774916, 0.0, 0.0, 0.0, 0.0, ...        1     angry  \n",
       "45     [0.025827257, 0.01296422, 0.020755643, 0.0, 0....        1     angry  \n",
       "...                                                  ...      ...       ...  \n",
       "35863  [0.23134665, 0.3235038, 0.13396424, 0.05265233...        1  surprise  \n",
       "35869  [0.4190711, 0.32569548, 0.0045682807, 0.002312...        1  surprise  \n",
       "35875  [0.32172725, 0.29283354, 0.09000543, 0.0720573...        1  surprise  \n",
       "35878  [0.20763314, 0.31089163, 0.1581842, 0.02511550...        1  surprise  \n",
       "35884  [0.20560372, 0.04748373, 0.03934206, 0.0998374...        1  surprise  \n",
       "\n",
       "[4611 rows x 4 columns]"
      ]
     },
     "execution_count": 4,
     "metadata": {},
     "output_type": "execute_result"
    }
   ],
   "source": [
    "dfxusar = df[df['estados'] == 1]\n",
    "elresto = df[df['estados'] == 0]\n",
    "dfxusar"
   ]
  },
  {
   "cell_type": "code",
   "execution_count": 5,
   "id": "5f32e55c",
   "metadata": {},
   "outputs": [],
   "source": [
    "X = np.array(dfxusar['hog'].values.tolist())\n",
    "y = dfxusar['label']\n",
    "X_train, X_test, y_train, y_test = train_test_split(X, y, test_size=0.2, random_state=19011)"
   ]
  },
  {
   "cell_type": "markdown",
   "id": "48d687fd",
   "metadata": {},
   "source": [
    "# K-folds y la comparacion inicial"
   ]
  },
  {
   "cell_type": "code",
   "execution_count": 6,
   "id": "ae585099",
   "metadata": {},
   "outputs": [],
   "source": [
    "# Definimos el pool de algoritmos de ensamble a evaluar\n",
    "modelos = []\n",
    "modelos.append(('RandomForest', RandomForestClassifier()))\n",
    "modelos.append(('Neural Network',MLPClassifier()))\n",
    "modelos.append(('KNN',KNeighborsClassifier()))"
   ]
  },
  {
   "cell_type": "markdown",
   "id": "231504ad",
   "metadata": {},
   "source": [
    "Mas heavy que el resto"
   ]
  },
  {
   "cell_type": "code",
   "execution_count": null,
   "id": "6e17ef32",
   "metadata": {},
   "outputs": [],
   "source": [
    "%%time\n",
    "\n",
    "results = []\n",
    "names = []\n",
    "\n",
    "# genera el particionamiento de 10 folds que seran usados en cada evaluacion\n",
    "kfold = KFold(n_splits=10, random_state=42, shuffle= True)  # especifica el particionador de datos a 10-folds CV\n",
    "\n",
    "for nombre, modelo in modelos:\n",
    "    cv_results = cross_val_score(modelo, X_train, y_train, cv=kfold, scoring='accuracy')\n",
    "    results.append(cv_results)\n",
    "    names.append(nombre)\n",
    "    print(\"{}: {} ({})\".format(nombre, cv_results.mean(), cv_results.std()))"
   ]
  },
  {
   "cell_type": "code",
   "execution_count": null,
   "id": "4680387b",
   "metadata": {},
   "outputs": [],
   "source": [
    "fig = plt.figure(figsize=[10,7])\n",
    "fig.suptitle('Accuracy  obtenidas en 10-fold-CV')\n",
    "ax = fig.add_subplot(111)\n",
    "plt.boxplot(results)\n",
    "ax.set_xticklabels(names)\n",
    "plt.show()"
   ]
  }
 ],
 "metadata": {
  "kernelspec": {
   "display_name": "Python 3 (ipykernel)",
   "language": "python",
   "name": "python3"
  },
  "language_info": {
   "codemirror_mode": {
    "name": "ipython",
    "version": 3
   },
   "file_extension": ".py",
   "mimetype": "text/x-python",
   "name": "python",
   "nbconvert_exporter": "python",
   "pygments_lexer": "ipython3",
   "version": "3.11.5"
  }
 },
 "nbformat": 4,
 "nbformat_minor": 5
}
