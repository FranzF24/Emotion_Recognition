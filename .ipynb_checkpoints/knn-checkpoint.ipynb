{
 "cells": [
  {
   "cell_type": "markdown",
   "metadata": {},
   "source": [
    "### Carga de datos, etc"
   ]
  },
  {
   "cell_type": "code",
   "execution_count": 1,
   "metadata": {},
   "outputs": [],
   "source": [
    "import os\n",
    "import re\n",
    "\n",
    "import numpy as np\n",
    "import pandas as pd\n",
    "import matplotlib.pyplot as plt\n",
    "\n",
    "import cv2\n",
    "import PIL.Image as Image\n",
    "\n",
    "from skimage import io, color, transform\n",
    "from skimage.feature import hog\n",
    "\n",
    "import time\n",
    "\n",
    "from sklearn.model_selection import train_test_split\n",
    "from sklearn.preprocessing import StandardScaler\n",
    "\n",
    "from sklearn.model_selection import GridSearchCV\n",
    "from sklearn.ensemble import RandomForestClassifier\n",
    "from sklearn.neural_network import MLPClassifier\n",
    "from sklearn.neighbors import KNeighborsClassifier\n",
    "from sklearn.model_selection import KFold\n",
    "from sklearn.model_selection import cross_val_score\n",
    "from sklearn.metrics import accuracy_score, classification_report"
   ]
  },
  {
   "cell_type": "code",
   "execution_count": 2,
   "metadata": {},
   "outputs": [],
   "source": [
    "gray_matrix = np.load('DatosDF\\gray_matrix.npy', allow_pickle=True)\n",
    "hog = np.load('DatosDF\\hog.npy', allow_pickle=True)\n",
    "estados = np.load('DatosDF\\estados.npy', allow_pickle=True)\n",
    "label = np.load('DatosDF\\labels.npy', allow_pickle=True)"
   ]
  },
  {
   "cell_type": "code",
   "execution_count": 3,
   "metadata": {},
   "outputs": [],
   "source": [
    "df = pd.DataFrame({'gray_matrix': gray_matrix,'hog': hog,'estados': estados,'label': label})"
   ]
  },
  {
   "cell_type": "code",
   "execution_count": 6,
   "metadata": {},
   "outputs": [
    {
     "data": {
      "text/html": [
       "<div>\n",
       "<style scoped>\n",
       "    .dataframe tbody tr th:only-of-type {\n",
       "        vertical-align: middle;\n",
       "    }\n",
       "\n",
       "    .dataframe tbody tr th {\n",
       "        vertical-align: top;\n",
       "    }\n",
       "\n",
       "    .dataframe thead th {\n",
       "        text-align: right;\n",
       "    }\n",
       "</style>\n",
       "<table border=\"1\" class=\"dataframe\">\n",
       "  <thead>\n",
       "    <tr style=\"text-align: right;\">\n",
       "      <th></th>\n",
       "      <th>gray_matrix</th>\n",
       "      <th>hog</th>\n",
       "      <th>estados</th>\n",
       "      <th>label</th>\n",
       "    </tr>\n",
       "  </thead>\n",
       "  <tbody>\n",
       "    <tr>\n",
       "      <th>16</th>\n",
       "      <td>[[175, 166, 185, 198, 202, 213, 212, 209, 210,...</td>\n",
       "      <td>[0.20444939, 0.034390625, 0.026585897, 0.01487...</td>\n",
       "      <td>1</td>\n",
       "      <td>angry</td>\n",
       "    </tr>\n",
       "    <tr>\n",
       "      <th>23</th>\n",
       "      <td>[[26, 29, 30, 35, 45, 60, 108, 145, 161, 161, ...</td>\n",
       "      <td>[0.46974203, 0.15378156, 0.0056655, 0.0, 0.002...</td>\n",
       "      <td>1</td>\n",
       "      <td>angry</td>\n",
       "    </tr>\n",
       "    <tr>\n",
       "      <th>30</th>\n",
       "      <td>[[17, 18, 19, 19, 17, 15, 16, 17, 18, 20, 18, ...</td>\n",
       "      <td>[0.16117984, 0.10060929, 0.12280247, 0.0026138...</td>\n",
       "      <td>1</td>\n",
       "      <td>angry</td>\n",
       "    </tr>\n",
       "    <tr>\n",
       "      <th>31</th>\n",
       "      <td>[[0, 0, 0, 0, 0, 0, 0, 0, 2, 3, 0, 1, 13, 37, ...</td>\n",
       "      <td>[0.17848918, 0.014774916, 0.0, 0.0, 0.0, 0.0, ...</td>\n",
       "      <td>1</td>\n",
       "      <td>angry</td>\n",
       "    </tr>\n",
       "    <tr>\n",
       "      <th>45</th>\n",
       "      <td>[[254, 254, 254, 254, 254, 254, 254, 254, 254,...</td>\n",
       "      <td>[0.025827257, 0.01296422, 0.020755643, 0.0, 0....</td>\n",
       "      <td>1</td>\n",
       "      <td>angry</td>\n",
       "    </tr>\n",
       "    <tr>\n",
       "      <th>...</th>\n",
       "      <td>...</td>\n",
       "      <td>...</td>\n",
       "      <td>...</td>\n",
       "      <td>...</td>\n",
       "    </tr>\n",
       "    <tr>\n",
       "      <th>35863</th>\n",
       "      <td>[[9, 38, 69, 99, 86, 102, 111, 105, 65, 58, 64...</td>\n",
       "      <td>[0.23134665, 0.3235038, 0.13396424, 0.05265233...</td>\n",
       "      <td>1</td>\n",
       "      <td>surprise</td>\n",
       "    </tr>\n",
       "    <tr>\n",
       "      <th>35869</th>\n",
       "      <td>[[253, 253, 254, 253, 170, 101, 105, 102, 85, ...</td>\n",
       "      <td>[0.4190711, 0.32569548, 0.0045682807, 0.002312...</td>\n",
       "      <td>1</td>\n",
       "      <td>surprise</td>\n",
       "    </tr>\n",
       "    <tr>\n",
       "      <th>35875</th>\n",
       "      <td>[[252, 247, 146, 93, 94, 89, 99, 94, 93, 83, 9...</td>\n",
       "      <td>[0.32172725, 0.29283354, 0.09000543, 0.0720573...</td>\n",
       "      <td>1</td>\n",
       "      <td>surprise</td>\n",
       "    </tr>\n",
       "    <tr>\n",
       "      <th>35878</th>\n",
       "      <td>[[33, 44, 49, 40, 35, 28, 23, 14, 9, 16, 17, 5...</td>\n",
       "      <td>[0.20763314, 0.31089163, 0.1581842, 0.02511550...</td>\n",
       "      <td>1</td>\n",
       "      <td>surprise</td>\n",
       "    </tr>\n",
       "    <tr>\n",
       "      <th>35884</th>\n",
       "      <td>[[124, 129, 125, 123, 129, 128, 127, 128, 131,...</td>\n",
       "      <td>[0.20560372, 0.04748373, 0.03934206, 0.0998374...</td>\n",
       "      <td>1</td>\n",
       "      <td>surprise</td>\n",
       "    </tr>\n",
       "  </tbody>\n",
       "</table>\n",
       "<p>4611 rows × 4 columns</p>\n",
       "</div>"
      ],
      "text/plain": [
       "                                             gray_matrix  \\\n",
       "16     [[175, 166, 185, 198, 202, 213, 212, 209, 210,...   \n",
       "23     [[26, 29, 30, 35, 45, 60, 108, 145, 161, 161, ...   \n",
       "30     [[17, 18, 19, 19, 17, 15, 16, 17, 18, 20, 18, ...   \n",
       "31     [[0, 0, 0, 0, 0, 0, 0, 0, 2, 3, 0, 1, 13, 37, ...   \n",
       "45     [[254, 254, 254, 254, 254, 254, 254, 254, 254,...   \n",
       "...                                                  ...   \n",
       "35863  [[9, 38, 69, 99, 86, 102, 111, 105, 65, 58, 64...   \n",
       "35869  [[253, 253, 254, 253, 170, 101, 105, 102, 85, ...   \n",
       "35875  [[252, 247, 146, 93, 94, 89, 99, 94, 93, 83, 9...   \n",
       "35878  [[33, 44, 49, 40, 35, 28, 23, 14, 9, 16, 17, 5...   \n",
       "35884  [[124, 129, 125, 123, 129, 128, 127, 128, 131,...   \n",
       "\n",
       "                                                     hog  estados     label  \n",
       "16     [0.20444939, 0.034390625, 0.026585897, 0.01487...        1     angry  \n",
       "23     [0.46974203, 0.15378156, 0.0056655, 0.0, 0.002...        1     angry  \n",
       "30     [0.16117984, 0.10060929, 0.12280247, 0.0026138...        1     angry  \n",
       "31     [0.17848918, 0.014774916, 0.0, 0.0, 0.0, 0.0, ...        1     angry  \n",
       "45     [0.025827257, 0.01296422, 0.020755643, 0.0, 0....        1     angry  \n",
       "...                                                  ...      ...       ...  \n",
       "35863  [0.23134665, 0.3235038, 0.13396424, 0.05265233...        1  surprise  \n",
       "35869  [0.4190711, 0.32569548, 0.0045682807, 0.002312...        1  surprise  \n",
       "35875  [0.32172725, 0.29283354, 0.09000543, 0.0720573...        1  surprise  \n",
       "35878  [0.20763314, 0.31089163, 0.1581842, 0.02511550...        1  surprise  \n",
       "35884  [0.20560372, 0.04748373, 0.03934206, 0.0998374...        1  surprise  \n",
       "\n",
       "[4611 rows x 4 columns]"
      ]
     },
     "execution_count": 6,
     "metadata": {},
     "output_type": "execute_result"
    }
   ],
   "source": [
    "dfxusar = df[df['estados'] == 1]\n",
    "elresto = df[df['estados'] == 0]\n",
    "dfxusar"
   ]
  },
  {
   "cell_type": "code",
   "execution_count": 7,
   "metadata": {},
   "outputs": [],
   "source": [
    "X = np.array(dfxusar['hog'].values.tolist())\n",
    "y = dfxusar['label']\n",
    "X_train, X_test, y_train, y_test = train_test_split(X, y, test_size=0.2, random_state=19011)"
   ]
  },
  {
   "cell_type": "markdown",
   "metadata": {},
   "source": [
    "# KNN"
   ]
  },
  {
   "cell_type": "code",
   "execution_count": 8,
   "metadata": {},
   "outputs": [
    {
     "data": {
      "text/html": [
       "<style>#sk-container-id-1 {color: black;}#sk-container-id-1 pre{padding: 0;}#sk-container-id-1 div.sk-toggleable {background-color: white;}#sk-container-id-1 label.sk-toggleable__label {cursor: pointer;display: block;width: 100%;margin-bottom: 0;padding: 0.3em;box-sizing: border-box;text-align: center;}#sk-container-id-1 label.sk-toggleable__label-arrow:before {content: \"▸\";float: left;margin-right: 0.25em;color: #696969;}#sk-container-id-1 label.sk-toggleable__label-arrow:hover:before {color: black;}#sk-container-id-1 div.sk-estimator:hover label.sk-toggleable__label-arrow:before {color: black;}#sk-container-id-1 div.sk-toggleable__content {max-height: 0;max-width: 0;overflow: hidden;text-align: left;background-color: #f0f8ff;}#sk-container-id-1 div.sk-toggleable__content pre {margin: 0.2em;color: black;border-radius: 0.25em;background-color: #f0f8ff;}#sk-container-id-1 input.sk-toggleable__control:checked~div.sk-toggleable__content {max-height: 200px;max-width: 100%;overflow: auto;}#sk-container-id-1 input.sk-toggleable__control:checked~label.sk-toggleable__label-arrow:before {content: \"▾\";}#sk-container-id-1 div.sk-estimator input.sk-toggleable__control:checked~label.sk-toggleable__label {background-color: #d4ebff;}#sk-container-id-1 div.sk-label input.sk-toggleable__control:checked~label.sk-toggleable__label {background-color: #d4ebff;}#sk-container-id-1 input.sk-hidden--visually {border: 0;clip: rect(1px 1px 1px 1px);clip: rect(1px, 1px, 1px, 1px);height: 1px;margin: -1px;overflow: hidden;padding: 0;position: absolute;width: 1px;}#sk-container-id-1 div.sk-estimator {font-family: monospace;background-color: #f0f8ff;border: 1px dotted black;border-radius: 0.25em;box-sizing: border-box;margin-bottom: 0.5em;}#sk-container-id-1 div.sk-estimator:hover {background-color: #d4ebff;}#sk-container-id-1 div.sk-parallel-item::after {content: \"\";width: 100%;border-bottom: 1px solid gray;flex-grow: 1;}#sk-container-id-1 div.sk-label:hover label.sk-toggleable__label {background-color: #d4ebff;}#sk-container-id-1 div.sk-serial::before {content: \"\";position: absolute;border-left: 1px solid gray;box-sizing: border-box;top: 0;bottom: 0;left: 50%;z-index: 0;}#sk-container-id-1 div.sk-serial {display: flex;flex-direction: column;align-items: center;background-color: white;padding-right: 0.2em;padding-left: 0.2em;position: relative;}#sk-container-id-1 div.sk-item {position: relative;z-index: 1;}#sk-container-id-1 div.sk-parallel {display: flex;align-items: stretch;justify-content: center;background-color: white;position: relative;}#sk-container-id-1 div.sk-item::before, #sk-container-id-1 div.sk-parallel-item::before {content: \"\";position: absolute;border-left: 1px solid gray;box-sizing: border-box;top: 0;bottom: 0;left: 50%;z-index: -1;}#sk-container-id-1 div.sk-parallel-item {display: flex;flex-direction: column;z-index: 1;position: relative;background-color: white;}#sk-container-id-1 div.sk-parallel-item:first-child::after {align-self: flex-end;width: 50%;}#sk-container-id-1 div.sk-parallel-item:last-child::after {align-self: flex-start;width: 50%;}#sk-container-id-1 div.sk-parallel-item:only-child::after {width: 0;}#sk-container-id-1 div.sk-dashed-wrapped {border: 1px dashed gray;margin: 0 0.4em 0.5em 0.4em;box-sizing: border-box;padding-bottom: 0.4em;background-color: white;}#sk-container-id-1 div.sk-label label {font-family: monospace;font-weight: bold;display: inline-block;line-height: 1.2em;}#sk-container-id-1 div.sk-label-container {text-align: center;}#sk-container-id-1 div.sk-container {/* jupyter's `normalize.less` sets `[hidden] { display: none; }` but bootstrap.min.css set `[hidden] { display: none !important; }` so we also need the `!important` here to be able to override the default hidden behavior on the sphinx rendered scikit-learn.org. See: https://github.com/scikit-learn/scikit-learn/issues/21755 */display: inline-block !important;position: relative;}#sk-container-id-1 div.sk-text-repr-fallback {display: none;}</style><div id=\"sk-container-id-1\" class=\"sk-top-container\"><div class=\"sk-text-repr-fallback\"><pre>KNeighborsClassifier()</pre><b>In a Jupyter environment, please rerun this cell to show the HTML representation or trust the notebook. <br />On GitHub, the HTML representation is unable to render, please try loading this page with nbviewer.org.</b></div><div class=\"sk-container\" hidden><div class=\"sk-item\"><div class=\"sk-estimator sk-toggleable\"><input class=\"sk-toggleable__control sk-hidden--visually\" id=\"sk-estimator-id-1\" type=\"checkbox\" checked><label for=\"sk-estimator-id-1\" class=\"sk-toggleable__label sk-toggleable__label-arrow\">KNeighborsClassifier</label><div class=\"sk-toggleable__content\"><pre>KNeighborsClassifier()</pre></div></div></div></div></div>"
      ],
      "text/plain": [
       "KNeighborsClassifier()"
      ]
     },
     "execution_count": 8,
     "metadata": {},
     "output_type": "execute_result"
    }
   ],
   "source": [
    "knn = KNeighborsClassifier(n_neighbors=5)  # Cambia 5 por el número de vecinos que desees utilizar\n",
    "knn.fit(X_train, y_train)"
   ]
  },
  {
   "cell_type": "code",
   "execution_count": 9,
   "metadata": {},
   "outputs": [
    {
     "name": "stdout",
     "output_type": "stream",
     "text": [
      "Precisión del modelo: 0.9088937093275488\n",
      "              precision    recall  f1-score   support\n",
      "\n",
      "       angry       0.90      0.93      0.91       462\n",
      "     disgust       0.86      0.76      0.81       435\n",
      "        fear       0.91      0.90      0.90       579\n",
      "       happy       0.92      1.00      0.96       650\n",
      "     neutral       0.88      0.97      0.92       622\n",
      "         sad       0.97      0.76      0.85       467\n",
      "    surprise       0.94      0.98      0.96       473\n",
      "\n",
      "    accuracy                           0.91      3688\n",
      "   macro avg       0.91      0.90      0.90      3688\n",
      "weighted avg       0.91      0.91      0.91      3688\n",
      "\n"
     ]
    }
   ],
   "source": [
    "y_pred_e= knn.predict(X_train)\n",
    "accuracy = accuracy_score(y_train, y_pred_e)\n",
    "print(f'Precisión del modelo: {accuracy}')\n",
    "\n",
    "print(classification_report(y_train, y_pred_e))"
   ]
  },
  {
   "cell_type": "code",
   "execution_count": 13,
   "metadata": {},
   "outputs": [
    {
     "name": "stdout",
     "output_type": "stream",
     "text": [
      "Precisión del modelo: 0.81148\n",
      "              precision    recall  f1-score   support\n",
      "\n",
      "       angry       0.75      0.75      0.75       101\n",
      "     disgust       0.73      0.49      0.59       112\n",
      "        fear       0.80      0.81      0.81       156\n",
      "       happy       0.80      0.99      0.89       149\n",
      "     neutral       0.80      0.95      0.87       153\n",
      "         sad       0.95      0.62      0.75       119\n",
      "    surprise       0.86      0.93      0.90       133\n",
      "\n",
      "    accuracy                           0.81       923\n",
      "   macro avg       0.81      0.79      0.79       923\n",
      "weighted avg       0.81      0.81      0.80       923\n",
      "\n"
     ]
    }
   ],
   "source": [
    "# Realizar predicciones en el conjunto de prueba\n",
    "y_pred = knn.predict(X_test)\n",
    "\n",
    "# Evaluar el modelo\n",
    "accuracy = accuracy_score(y_test, y_pred)\n",
    "print(f'Precisión del modelo: {round(accuracy,5)}')\n",
    "\n",
    "print(classification_report(y_test, y_pred))"
   ]
  },
  {
   "cell_type": "markdown",
   "metadata": {},
   "source": [
    "## [Conjunto Pequeño] GridSearch - Optimizacion de parametros"
   ]
  },
  {
   "cell_type": "markdown",
   "metadata": {},
   "source": [
    "### Primero"
   ]
  },
  {
   "cell_type": "code",
   "execution_count": 14,
   "metadata": {},
   "outputs": [
    {
     "name": "stdout",
     "output_type": "stream",
     "text": [
      "Fitting 5 folds for each of 20 candidates, totalling 100 fits\n"
     ]
    },
    {
     "name": "stderr",
     "output_type": "stream",
     "text": [
      "C:\\Users\\gonza\\AppData\\Local\\Packages\\PythonSoftwareFoundation.Python.3.8_qbz5n2kfra8p0\\LocalCache\\local-packages\\Python38\\site-packages\\sklearn\\model_selection\\_search.py:979: UserWarning: One or more of the test scores are non-finite: [       nan 0.83839855        nan 0.80992929        nan 0.78145268\n",
      "        nan 0.75786257        nan 0.74024409        nan 0.72071571\n",
      "        nan 0.70743143        nan 0.69984005        nan 0.6930613\n",
      "        nan 0.68438407]\n",
      "  warnings.warn(\n"
     ]
    },
    {
     "name": "stdout",
     "output_type": "stream",
     "text": [
      "Mejores hiperparámetros: {'n_neighbors': 3, 'p': 2}\n",
      "Precisión del modelo: 0.8212351029252438\n",
      "              precision    recall  f1-score   support\n",
      "\n",
      "       angry       0.70      0.82      0.75       101\n",
      "     disgust       0.69      0.50      0.58       112\n",
      "        fear       0.78      0.84      0.81       156\n",
      "       happy       0.84      0.99      0.91       149\n",
      "     neutral       0.86      0.96      0.91       153\n",
      "         sad       0.95      0.58      0.72       119\n",
      "    surprise       0.91      0.94      0.93       133\n",
      "\n",
      "    accuracy                           0.82       923\n",
      "   macro avg       0.82      0.80      0.80       923\n",
      "weighted avg       0.82      0.82      0.81       923\n",
      "\n",
      "CPU times: total: 2.31 s\n",
      "Wall time: 48.5 s\n"
     ]
    }
   ],
   "source": [
    "%%time\n",
    "from sklearn.model_selection import GridSearchCV\n",
    "\n",
    "knn = KNeighborsClassifier()\n",
    "\n",
    "param_grid = {\n",
    "    'n_neighbors': [3,6,9,12,15,18,21,24,27,30],\n",
    "    'p':[1,2]\n",
    "}\n",
    "\n",
    "# Realiza la búsqueda en cuadrícula con validación cruzada\n",
    "grid_search = GridSearchCV(estimator=knn, param_grid=param_grid, cv=5, scoring='accuracy', verbose=10,n_jobs=8)\n",
    "grid_search.fit(X_train, y_train)\n",
    "\n",
    "# Muestra los mejores hiperparámetros encontrados\n",
    "best_params = grid_search.best_params_\n",
    "print(f\"Mejores hiperparámetros: {best_params}\")\n",
    "\n",
    "# Entrena el modelo con los mejores hiperparámetros en todo el conjunto de entrenamiento\n",
    "best_rf_classifier = grid_search.best_estimator_\n",
    "best_rf_classifier.fit(X_train, y_train)\n",
    "\n",
    "# Evalúa el modelo en el conjunto de prueba\n",
    "y_pred = best_rf_classifier.predict(X_test)\n",
    "\n",
    "# Evaluar el modelo\n",
    "accuracy = accuracy_score(y_test, y_pred)\n",
    "print(f'Precisión del modelo: {accuracy}')\n",
    "\n",
    "print(classification_report(y_test, y_pred))"
   ]
  },
  {
   "cell_type": "markdown",
   "metadata": {},
   "source": [
    "## [Conjunto Grande] GridSearch - Optimizacion de parametros"
   ]
  },
  {
   "cell_type": "markdown",
   "metadata": {},
   "source": [
    "Modelo aplicando los parametros optimizados"
   ]
  },
  {
   "cell_type": "code",
   "execution_count": 15,
   "metadata": {},
   "outputs": [],
   "source": [
    "X_g = np.array(df['hog'].values.tolist())\n",
    "y_g = df['label']\n",
    "X_traing, X_testg, y_traing, y_testg = train_test_split(X_g, y_g, test_size=0.2, random_state=19011)"
   ]
  },
  {
   "cell_type": "code",
   "execution_count": 17,
   "metadata": {},
   "outputs": [],
   "source": [
    "knn_g = KNeighborsClassifier(n_neighbors=3,p=2) "
   ]
  },
  {
   "cell_type": "code",
   "execution_count": 19,
   "metadata": {},
   "outputs": [
    {
     "name": "stdout",
     "output_type": "stream",
     "text": [
      "Precisión del modelo: 0.7091504406283744\n",
      "              precision    recall  f1-score   support\n",
      "\n",
      "       angry       0.56      0.83      0.67      3905\n",
      "     disgust       0.61      0.77      0.68       438\n",
      "        fear       0.62      0.70      0.66      4106\n",
      "       happy       0.77      0.83      0.80      7238\n",
      "     neutral       0.74      0.62      0.67      4928\n",
      "         sad       0.83      0.50      0.62      4864\n",
      "    surprise       0.83      0.76      0.79      3230\n",
      "\n",
      "    accuracy                           0.71     28709\n",
      "   macro avg       0.71      0.71      0.70     28709\n",
      "weighted avg       0.73      0.71      0.71     28709\n",
      "\n"
     ]
    }
   ],
   "source": [
    "knn_g.fit(X_traing, y_traing)\n",
    "y_pred_eg= knn_g.predict(X_traing)"
   ]
  },
  {
   "cell_type": "code",
   "execution_count": 21,
   "metadata": {},
   "outputs": [
    {
     "name": "stdout",
     "output_type": "stream",
     "text": [
      "Precisión del modelo: 0.7091504406283744\n",
      "              precision    recall  f1-score   support\n",
      "\n",
      "       angry       0.56      0.83      0.67      3905\n",
      "     disgust       0.61      0.77      0.68       438\n",
      "        fear       0.62      0.70      0.66      4106\n",
      "       happy       0.77      0.83      0.80      7238\n",
      "     neutral       0.74      0.62      0.67      4928\n",
      "         sad       0.83      0.50      0.62      4864\n",
      "    surprise       0.83      0.76      0.79      3230\n",
      "\n",
      "    accuracy                           0.71     28709\n",
      "   macro avg       0.71      0.71      0.70     28709\n",
      "weighted avg       0.73      0.71      0.71     28709\n",
      "\n"
     ]
    }
   ],
   "source": [
    "accuracy = accuracy_score(y_traing, y_pred_eg)\n",
    "print(f'Precisión del modelo: {accuracy}')\n",
    "\n",
    "print(classification_report(y_traing, y_pred_eg))"
   ]
  },
  {
   "cell_type": "markdown",
   "metadata": {},
   "source": [
    "### Primero"
   ]
  },
  {
   "cell_type": "code",
   "execution_count": null,
   "metadata": {},
   "outputs": [
    {
     "name": "stdout",
     "output_type": "stream",
     "text": [
      "Fitting 5 folds for each of 20 candidates, totalling 100 fits\n"
     ]
    },
    {
     "name": "stderr",
     "output_type": "stream",
     "text": [
      "C:\\Users\\gonza\\AppData\\Local\\Packages\\PythonSoftwareFoundation.Python.3.8_qbz5n2kfra8p0\\LocalCache\\local-packages\\Python38\\site-packages\\sklearn\\model_selection\\_search.py:979: UserWarning: One or more of the test scores are non-finite: [       nan 0.83839855        nan 0.80992929        nan 0.78145268\n",
      "        nan 0.75786257        nan 0.74024409        nan 0.72071571\n",
      "        nan 0.70743143        nan 0.69984005        nan 0.6930613\n",
      "        nan 0.68438407]\n",
      "  warnings.warn(\n"
     ]
    },
    {
     "name": "stdout",
     "output_type": "stream",
     "text": [
      "Mejores hiperparámetros: {'n_neighbors': 3, 'p': 2}\n",
      "Precisión del modelo: 0.8212351029252438\n",
      "              precision    recall  f1-score   support\n",
      "\n",
      "       angry       0.70      0.82      0.75       101\n",
      "     disgust       0.69      0.50      0.58       112\n",
      "        fear       0.78      0.84      0.81       156\n",
      "       happy       0.84      0.99      0.91       149\n",
      "     neutral       0.86      0.96      0.91       153\n",
      "         sad       0.95      0.58      0.72       119\n",
      "    surprise       0.91      0.94      0.93       133\n",
      "\n",
      "    accuracy                           0.82       923\n",
      "   macro avg       0.82      0.80      0.80       923\n",
      "weighted avg       0.82      0.82      0.81       923\n",
      "\n",
      "CPU times: total: 2.31 s\n",
      "Wall time: 48.5 s\n"
     ]
    }
   ],
   "source": [
    "%%time\n",
    "from sklearn.model_selection import GridSearchCV\n",
    "\n",
    "knn = KNeighborsClassifier()\n",
    "\n",
    "param_grid = {\n",
    "    'n_neighbors': [3,18,30],\n",
    "    'p':[1,2]\n",
    "}\n",
    "\n",
    "# Realiza la búsqueda en cuadrícula con validación cruzada\n",
    "grid_search = GridSearchCV(estimator=knn, param_grid=param_grid, cv=5, scoring='accuracy', verbose=10,n_jobs=8)\n",
    "grid_search.fit(X_train, y_train)\n",
    "\n",
    "# Muestra los mejores hiperparámetros encontrados\n",
    "best_params = grid_search.best_params_\n",
    "print(f\"Mejores hiperparámetros: {best_params}\")\n",
    "\n",
    "# Entrena el modelo con los mejores hiperparámetros en todo el conjunto de entrenamiento\n",
    "best_rf_classifier = grid_search.best_estimator_\n",
    "best_rf_classifier.fit(X_train, y_train)\n",
    "\n",
    "# Evalúa el modelo en el conjunto de prueba\n",
    "y_pred = best_rf_classifier.predict(X_test)\n",
    "\n",
    "# Evaluar el modelo\n",
    "accuracy = accuracy_score(y_test, y_pred)\n",
    "print(f'Precisión del modelo: {accuracy}')\n",
    "\n",
    "print(classification_report(y_test, y_pred))"
   ]
  }
 ],
 "metadata": {
  "kernelspec": {
   "display_name": "Python 3 (ipykernel)",
   "language": "python",
   "name": "python3"
  },
  "language_info": {
   "codemirror_mode": {
    "name": "ipython",
    "version": 3
   },
   "file_extension": ".py",
   "mimetype": "text/x-python",
   "name": "python",
   "nbconvert_exporter": "python",
   "pygments_lexer": "ipython3",
   "version": "3.11.5"
  }
 },
 "nbformat": 4,
 "nbformat_minor": 2
}
