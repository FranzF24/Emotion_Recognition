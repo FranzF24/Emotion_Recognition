{
 "cells": [
  {
   "cell_type": "code",
   "execution_count": 2,
   "id": "c737007c",
   "metadata": {},
   "outputs": [
    {
     "name": "stderr",
     "output_type": "stream",
     "text": [
      "C:\\Users\\gonza\\anaconda3\\Lib\\site-packages\\paramiko\\transport.py:219: CryptographyDeprecationWarning: Blowfish has been deprecated\n",
      "  \"class\": algorithms.Blowfish,\n"
     ]
    }
   ],
   "source": [
    "import os\n",
    "import re\n",
    "\n",
    "import numpy as np\n",
    "import pandas as pd\n",
    "import matplotlib.pyplot as plt\n",
    "\n",
    "import cv2\n",
    "import PIL.Image as Image\n",
    "\n",
    "from skimage import io, color, transform\n",
    "from skimage.feature import hog\n",
    "\n",
    "import time"
   ]
  },
  {
   "cell_type": "markdown",
   "id": "6f6d068e",
   "metadata": {},
   "source": [
    "## Carga de la base (unpickle the pickle)"
   ]
  },
  {
   "cell_type": "code",
   "execution_count": 3,
   "id": "1f3466fb",
   "metadata": {},
   "outputs": [
    {
     "data": {
      "text/html": [
       "<div>\n",
       "<style scoped>\n",
       "    .dataframe tbody tr th:only-of-type {\n",
       "        vertical-align: middle;\n",
       "    }\n",
       "\n",
       "    .dataframe tbody tr th {\n",
       "        vertical-align: top;\n",
       "    }\n",
       "\n",
       "    .dataframe thead th {\n",
       "        text-align: right;\n",
       "    }\n",
       "</style>\n",
       "<table border=\"1\" class=\"dataframe\">\n",
       "  <thead>\n",
       "    <tr style=\"text-align: right;\">\n",
       "      <th></th>\n",
       "      <th>gray_matrix</th>\n",
       "      <th>label</th>\n",
       "    </tr>\n",
       "  </thead>\n",
       "  <tbody>\n",
       "    <tr>\n",
       "      <th>0</th>\n",
       "      <td>[[46, 34, 26, 23, 12, 32, 35, 26, 26, 38, 71, ...</td>\n",
       "      <td>angry</td>\n",
       "    </tr>\n",
       "    <tr>\n",
       "      <th>1</th>\n",
       "      <td>[[55, 33, 54, 32, 26, 21, 50, 29, 38, 45, 79, ...</td>\n",
       "      <td>angry</td>\n",
       "    </tr>\n",
       "    <tr>\n",
       "      <th>2</th>\n",
       "      <td>[[123, 123, 126, 131, 124, 69, 109, 149, 159, ...</td>\n",
       "      <td>angry</td>\n",
       "    </tr>\n",
       "    <tr>\n",
       "      <th>3</th>\n",
       "      <td>[[255, 255, 255, 255, 255, 255, 255, 255, 255,...</td>\n",
       "      <td>angry</td>\n",
       "    </tr>\n",
       "    <tr>\n",
       "      <th>4</th>\n",
       "      <td>[[127, 121, 124, 137, 123, 118, 120, 111, 111,...</td>\n",
       "      <td>angry</td>\n",
       "    </tr>\n",
       "    <tr>\n",
       "      <th>...</th>\n",
       "      <td>...</td>\n",
       "      <td>...</td>\n",
       "    </tr>\n",
       "    <tr>\n",
       "      <th>35882</th>\n",
       "      <td>[[27, 26, 26, 26, 27, 27, 28, 28, 33, 34, 35, ...</td>\n",
       "      <td>surprise</td>\n",
       "    </tr>\n",
       "    <tr>\n",
       "      <th>35883</th>\n",
       "      <td>[[7, 6, 13, 39, 76, 58, 29, 21, 16, 20, 34, 56...</td>\n",
       "      <td>surprise</td>\n",
       "    </tr>\n",
       "    <tr>\n",
       "      <th>35884</th>\n",
       "      <td>[[124, 129, 125, 123, 129, 128, 127, 128, 131,...</td>\n",
       "      <td>surprise</td>\n",
       "    </tr>\n",
       "    <tr>\n",
       "      <th>35885</th>\n",
       "      <td>[[242, 242, 242, 216, 110, 42, 20, 41, 37, 14,...</td>\n",
       "      <td>surprise</td>\n",
       "    </tr>\n",
       "    <tr>\n",
       "      <th>35886</th>\n",
       "      <td>[[194, 197, 191, 174, 160, 147, 145, 158, 155,...</td>\n",
       "      <td>surprise</td>\n",
       "    </tr>\n",
       "  </tbody>\n",
       "</table>\n",
       "<p>35887 rows × 2 columns</p>\n",
       "</div>"
      ],
      "text/plain": [
       "                                             gray_matrix     label\n",
       "0      [[46, 34, 26, 23, 12, 32, 35, 26, 26, 38, 71, ...     angry\n",
       "1      [[55, 33, 54, 32, 26, 21, 50, 29, 38, 45, 79, ...     angry\n",
       "2      [[123, 123, 126, 131, 124, 69, 109, 149, 159, ...     angry\n",
       "3      [[255, 255, 255, 255, 255, 255, 255, 255, 255,...     angry\n",
       "4      [[127, 121, 124, 137, 123, 118, 120, 111, 111,...     angry\n",
       "...                                                  ...       ...\n",
       "35882  [[27, 26, 26, 26, 27, 27, 28, 28, 33, 34, 35, ...  surprise\n",
       "35883  [[7, 6, 13, 39, 76, 58, 29, 21, 16, 20, 34, 56...  surprise\n",
       "35884  [[124, 129, 125, 123, 129, 128, 127, 128, 131,...  surprise\n",
       "35885  [[242, 242, 242, 216, 110, 42, 20, 41, 37, 14,...  surprise\n",
       "35886  [[194, 197, 191, 174, 160, 147, 145, 158, 155,...  surprise\n",
       "\n",
       "[35887 rows x 2 columns]"
      ]
     },
     "execution_count": 3,
     "metadata": {},
     "output_type": "execute_result"
    }
   ],
   "source": [
    "images = np.load('images.npy', allow_pickle=True)\n",
    "labels = np.load('labels.npy', allow_pickle=True)\n",
    "\n",
    "df = pd.DataFrame({'gray_matrix': images.tolist(), 'label': labels.tolist()})\n",
    "df"
   ]
  },
  {
   "cell_type": "markdown",
   "id": "aaa7a9f4",
   "metadata": {},
   "source": [
    "### Añadimos las caracteristicas - HOG"
   ]
  },
  {
   "cell_type": "code",
   "execution_count": 5,
   "id": "bb7ddb48",
   "metadata": {},
   "outputs": [],
   "source": [
    "def calculate_hog(image):\n",
    "    # Reshape de la imagen al tamaño requerido por HOG\n",
    "    image_resized = cv2.resize(image, (64, 128))\n",
    "\n",
    "    # Crear un objeto HOG\n",
    "    hog = cv2.HOGDescriptor()\n",
    "\n",
    "    # Calcular el HOG en la imagen redimensionada\n",
    "    hog_features = hog.compute(image_resized)\n",
    "    return hog_features"
   ]
  },
  {
   "cell_type": "code",
   "execution_count": 6,
   "id": "4ccda687",
   "metadata": {},
   "outputs": [
    {
     "name": "stdout",
     "output_type": "stream",
     "text": [
      "CPU times: total: 4.89 s\n",
      "Wall time: 5.05 s\n"
     ]
    },
    {
     "data": {
      "text/html": [
       "<div>\n",
       "<style scoped>\n",
       "    .dataframe tbody tr th:only-of-type {\n",
       "        vertical-align: middle;\n",
       "    }\n",
       "\n",
       "    .dataframe tbody tr th {\n",
       "        vertical-align: top;\n",
       "    }\n",
       "\n",
       "    .dataframe thead th {\n",
       "        text-align: right;\n",
       "    }\n",
       "</style>\n",
       "<table border=\"1\" class=\"dataframe\">\n",
       "  <thead>\n",
       "    <tr style=\"text-align: right;\">\n",
       "      <th></th>\n",
       "      <th>gray_matrix</th>\n",
       "      <th>label</th>\n",
       "      <th>hog</th>\n",
       "    </tr>\n",
       "  </thead>\n",
       "  <tbody>\n",
       "    <tr>\n",
       "      <th>0</th>\n",
       "      <td>[[46, 34, 26, 23, 12, 32, 35, 26, 26, 38, 71, ...</td>\n",
       "      <td>angry</td>\n",
       "      <td>[0.33274356, 0.1704117, 0.025357863, 0.0006549...</td>\n",
       "    </tr>\n",
       "    <tr>\n",
       "      <th>1</th>\n",
       "      <td>[[55, 33, 54, 32, 26, 21, 50, 29, 38, 45, 79, ...</td>\n",
       "      <td>angry</td>\n",
       "      <td>[0.27381572, 0.22986299, 0.09233569, 0.0294371...</td>\n",
       "    </tr>\n",
       "    <tr>\n",
       "      <th>2</th>\n",
       "      <td>[[123, 123, 126, 131, 124, 69, 109, 149, 159, ...</td>\n",
       "      <td>angry</td>\n",
       "      <td>[0.34384748, 0.01883176, 0.004236705, 0.010840...</td>\n",
       "    </tr>\n",
       "    <tr>\n",
       "      <th>3</th>\n",
       "      <td>[[255, 255, 255, 255, 255, 255, 255, 255, 255,...</td>\n",
       "      <td>angry</td>\n",
       "      <td>[0.014489936, 0.008741817, 0.020611065, 0.0, 0...</td>\n",
       "    </tr>\n",
       "    <tr>\n",
       "      <th>4</th>\n",
       "      <td>[[127, 121, 124, 137, 123, 118, 120, 111, 111,...</td>\n",
       "      <td>angry</td>\n",
       "      <td>[0.25325525, 0.0767658, 0.026558537, 0.0181144...</td>\n",
       "    </tr>\n",
       "    <tr>\n",
       "      <th>...</th>\n",
       "      <td>...</td>\n",
       "      <td>...</td>\n",
       "      <td>...</td>\n",
       "    </tr>\n",
       "    <tr>\n",
       "      <th>35882</th>\n",
       "      <td>[[27, 26, 26, 26, 27, 27, 28, 28, 33, 34, 35, ...</td>\n",
       "      <td>surprise</td>\n",
       "      <td>[0.14022486, 0.07403437, 0.0686184, 0.0, 0.041...</td>\n",
       "    </tr>\n",
       "    <tr>\n",
       "      <th>35883</th>\n",
       "      <td>[[7, 6, 13, 39, 76, 58, 29, 21, 16, 20, 34, 56...</td>\n",
       "      <td>surprise</td>\n",
       "      <td>[0.39263126, 0.11640715, 0.0072888294, 0.00144...</td>\n",
       "    </tr>\n",
       "    <tr>\n",
       "      <th>35884</th>\n",
       "      <td>[[124, 129, 125, 123, 129, 128, 127, 128, 131,...</td>\n",
       "      <td>surprise</td>\n",
       "      <td>[0.20560372, 0.04748373, 0.03934206, 0.0998374...</td>\n",
       "    </tr>\n",
       "    <tr>\n",
       "      <th>35885</th>\n",
       "      <td>[[242, 242, 242, 216, 110, 42, 20, 41, 37, 14,...</td>\n",
       "      <td>surprise</td>\n",
       "      <td>[0.3589315, 0.16316827, 0.042510495, 0.0318309...</td>\n",
       "    </tr>\n",
       "    <tr>\n",
       "      <th>35886</th>\n",
       "      <td>[[194, 197, 191, 174, 160, 147, 145, 158, 155,...</td>\n",
       "      <td>surprise</td>\n",
       "      <td>[0.3321482, 0.3321482, 0.07540651, 0.02142311,...</td>\n",
       "    </tr>\n",
       "  </tbody>\n",
       "</table>\n",
       "<p>35887 rows × 3 columns</p>\n",
       "</div>"
      ],
      "text/plain": [
       "                                             gray_matrix     label  \\\n",
       "0      [[46, 34, 26, 23, 12, 32, 35, 26, 26, 38, 71, ...     angry   \n",
       "1      [[55, 33, 54, 32, 26, 21, 50, 29, 38, 45, 79, ...     angry   \n",
       "2      [[123, 123, 126, 131, 124, 69, 109, 149, 159, ...     angry   \n",
       "3      [[255, 255, 255, 255, 255, 255, 255, 255, 255,...     angry   \n",
       "4      [[127, 121, 124, 137, 123, 118, 120, 111, 111,...     angry   \n",
       "...                                                  ...       ...   \n",
       "35882  [[27, 26, 26, 26, 27, 27, 28, 28, 33, 34, 35, ...  surprise   \n",
       "35883  [[7, 6, 13, 39, 76, 58, 29, 21, 16, 20, 34, 56...  surprise   \n",
       "35884  [[124, 129, 125, 123, 129, 128, 127, 128, 131,...  surprise   \n",
       "35885  [[242, 242, 242, 216, 110, 42, 20, 41, 37, 14,...  surprise   \n",
       "35886  [[194, 197, 191, 174, 160, 147, 145, 158, 155,...  surprise   \n",
       "\n",
       "                                                     hog  \n",
       "0      [0.33274356, 0.1704117, 0.025357863, 0.0006549...  \n",
       "1      [0.27381572, 0.22986299, 0.09233569, 0.0294371...  \n",
       "2      [0.34384748, 0.01883176, 0.004236705, 0.010840...  \n",
       "3      [0.014489936, 0.008741817, 0.020611065, 0.0, 0...  \n",
       "4      [0.25325525, 0.0767658, 0.026558537, 0.0181144...  \n",
       "...                                                  ...  \n",
       "35882  [0.14022486, 0.07403437, 0.0686184, 0.0, 0.041...  \n",
       "35883  [0.39263126, 0.11640715, 0.0072888294, 0.00144...  \n",
       "35884  [0.20560372, 0.04748373, 0.03934206, 0.0998374...  \n",
       "35885  [0.3589315, 0.16316827, 0.042510495, 0.0318309...  \n",
       "35886  [0.3321482, 0.3321482, 0.07540651, 0.02142311,...  \n",
       "\n",
       "[35887 rows x 3 columns]"
      ]
     },
     "execution_count": 6,
     "metadata": {},
     "output_type": "execute_result"
    }
   ],
   "source": [
    "%%time\n",
    "\n",
    "df['hog'] = df['gray_matrix'].apply(calculate_hog)\n",
    "df"
   ]
  },
  {
   "cell_type": "markdown",
   "id": "7af21696",
   "metadata": {},
   "source": [
    "# Undersampleo"
   ]
  },
  {
   "cell_type": "code",
   "execution_count": 7,
   "id": "07138ba0",
   "metadata": {},
   "outputs": [],
   "source": [
    "from sklearn.neighbors import NearestNeighbors\n",
    "def knn_und(X,y,majority_class, k, t, algorithm=\"auto\", metric=\"euclidean\"):\n",
    "    #TODO IMPLEMENT SUPPORT FOR SPARSE MATRICES\n",
    "    if not isinstance(X, (np.ndarray, np.generic) ):\n",
    "        X = np.asarray(X)\n",
    "\n",
    "    if not isinstance(y, (np.ndarray, np.generic) ):\n",
    "        y = np.asarray(y)\n",
    "\n",
    "\n",
    "\n",
    "    nrows = X.shape[0]\n",
    "    ncols=1\n",
    "\n",
    "    result= [True] * nrows\n",
    "\n",
    "    nbrs = NearestNeighbors(n_neighbors=k,algorithm=\"auto\", metric=metric).fit(X)\n",
    "    nns_indexes = nbrs.kneighbors(X,return_distance=False)\n",
    "\n",
    "    for i in range(nrows):\n",
    "        example = X[i,1:ncols]\n",
    "        current_label = y[i]\n",
    "\n",
    "        if (current_label != majority_class):\n",
    "            result[i]=True\n",
    "            continue\n",
    "\n",
    "        nns_labels=y[nns_indexes[i]]\n",
    "\n",
    "        num_of_minority = 0\n",
    "\n",
    "        for nn_label in nns_labels:\n",
    "            if nn_label==i:\n",
    "                continue\n",
    "\n",
    "            if nn_label!=majority_class:\n",
    "                num_of_minority = num_of_minority+1\n",
    "\n",
    "\n",
    "        if num_of_minority>t:\n",
    "            result[i]=False\n",
    "        else:\n",
    "            result[i]=True\n",
    "\n",
    "    return(result)"
   ]
  },
  {
   "cell_type": "code",
   "execution_count": 8,
   "id": "816c9b39",
   "metadata": {},
   "outputs": [
    {
     "name": "stdout",
     "output_type": "stream",
     "text": [
      "Conteo inicial\n"
     ]
    },
    {
     "data": {
      "text/html": [
       "<div>\n",
       "<style scoped>\n",
       "    .dataframe tbody tr th:only-of-type {\n",
       "        vertical-align: middle;\n",
       "    }\n",
       "\n",
       "    .dataframe tbody tr th {\n",
       "        vertical-align: top;\n",
       "    }\n",
       "\n",
       "    .dataframe thead th {\n",
       "        text-align: right;\n",
       "    }\n",
       "</style>\n",
       "<table border=\"1\" class=\"dataframe\">\n",
       "  <thead>\n",
       "    <tr style=\"text-align: right;\">\n",
       "      <th></th>\n",
       "      <th>gray_matrix</th>\n",
       "      <th>hog</th>\n",
       "    </tr>\n",
       "    <tr>\n",
       "      <th>label</th>\n",
       "      <th></th>\n",
       "      <th></th>\n",
       "    </tr>\n",
       "  </thead>\n",
       "  <tbody>\n",
       "    <tr>\n",
       "      <th>angry</th>\n",
       "      <td>4953</td>\n",
       "      <td>4953</td>\n",
       "    </tr>\n",
       "    <tr>\n",
       "      <th>disgust</th>\n",
       "      <td>547</td>\n",
       "      <td>547</td>\n",
       "    </tr>\n",
       "    <tr>\n",
       "      <th>fear</th>\n",
       "      <td>5121</td>\n",
       "      <td>5121</td>\n",
       "    </tr>\n",
       "    <tr>\n",
       "      <th>happy</th>\n",
       "      <td>8989</td>\n",
       "      <td>8989</td>\n",
       "    </tr>\n",
       "    <tr>\n",
       "      <th>neutral</th>\n",
       "      <td>6198</td>\n",
       "      <td>6198</td>\n",
       "    </tr>\n",
       "    <tr>\n",
       "      <th>sad</th>\n",
       "      <td>6077</td>\n",
       "      <td>6077</td>\n",
       "    </tr>\n",
       "    <tr>\n",
       "      <th>surprise</th>\n",
       "      <td>4002</td>\n",
       "      <td>4002</td>\n",
       "    </tr>\n",
       "  </tbody>\n",
       "</table>\n",
       "</div>"
      ],
      "text/plain": [
       "          gray_matrix   hog\n",
       "label                      \n",
       "angry            4953  4953\n",
       "disgust           547   547\n",
       "fear             5121  5121\n",
       "happy            8989  8989\n",
       "neutral          6198  6198\n",
       "sad              6077  6077\n",
       "surprise         4002  4002"
      ]
     },
     "execution_count": 8,
     "metadata": {},
     "output_type": "execute_result"
    }
   ],
   "source": [
    "print('Conteo inicial')\n",
    "df.groupby('label').count()"
   ]
  },
  {
   "cell_type": "code",
   "execution_count": 11,
   "id": "7f5e1e42",
   "metadata": {},
   "outputs": [],
   "source": [
    "X = np.array(df['hog'].values.tolist())\n",
    "y = df['label']"
   ]
  },
  {
   "cell_type": "markdown",
   "id": "8429a68f",
   "metadata": {},
   "source": [
    "### Empieza la agrupacion. Pre-procesamiento.\n",
    "\n",
    "No creo que el tiempo sea relevante. De todos modos, tengo otras operaciones en la misma computadora, lo que puede afectar a los tiempos de ejecucion (al momento de realizar este cuaderno y commitearlo el 30/10)"
   ]
  },
  {
   "cell_type": "code",
   "execution_count": 12,
   "id": "d9acf155",
   "metadata": {},
   "outputs": [
    {
     "name": "stdout",
     "output_type": "stream",
     "text": [
      "CPU times: total: 4min 3s\n",
      "Wall time: 52.9 s\n"
     ]
    },
    {
     "data": {
      "text/plain": [
       "3396"
      ]
     },
     "execution_count": 12,
     "metadata": {},
     "output_type": "execute_result"
    }
   ],
   "source": [
    "%%time\n",
    "surprise=knn_und(X,y,'surprise', k=15, t=3, algorithm=\"auto\", metric=\"euclidean\")\n",
    "surprise.count(False)"
   ]
  },
  {
   "cell_type": "code",
   "execution_count": 13,
   "id": "c45d5a74",
   "metadata": {},
   "outputs": [
    {
     "name": "stdout",
     "output_type": "stream",
     "text": [
      "CPU times: total: 4min 9s\n",
      "Wall time: 53.3 s\n"
     ]
    },
    {
     "data": {
      "text/plain": [
       "4390"
      ]
     },
     "execution_count": 13,
     "metadata": {},
     "output_type": "execute_result"
    }
   ],
   "source": [
    "%%time\n",
    "angry=knn_und(X,y,'angry', k=15, t=7, algorithm=\"auto\", metric=\"euclidean\")\n",
    "angry.count(False)"
   ]
  },
  {
   "cell_type": "code",
   "execution_count": 14,
   "id": "2cbe8a52",
   "metadata": {},
   "outputs": [
    {
     "name": "stdout",
     "output_type": "stream",
     "text": [
      "CPU times: total: 4min 14s\n",
      "Wall time: 54.5 s\n"
     ]
    },
    {
     "data": {
      "text/plain": [
       "4386"
      ]
     },
     "execution_count": 14,
     "metadata": {},
     "output_type": "execute_result"
    }
   ],
   "source": [
    "%%time\n",
    "fear=knn_und(X,y,'fear', k=15, t=8, algorithm=\"auto\", metric=\"euclidean\")\n",
    "fear.count(False)"
   ]
  },
  {
   "cell_type": "code",
   "execution_count": 15,
   "id": "46e5e006",
   "metadata": {},
   "outputs": [
    {
     "name": "stdout",
     "output_type": "stream",
     "text": [
      "CPU times: total: 4min 21s\n",
      "Wall time: 1min 1s\n"
     ]
    },
    {
     "data": {
      "text/plain": [
       "5491"
      ]
     },
     "execution_count": 15,
     "metadata": {},
     "output_type": "execute_result"
    }
   ],
   "source": [
    "%%time\n",
    "sad=knn_und(X,y,'sad', k=19, t=10, algorithm=\"auto\", metric=\"euclidean\")\n",
    "sad.count(False)"
   ]
  },
  {
   "cell_type": "code",
   "execution_count": 16,
   "id": "524551e5",
   "metadata": {},
   "outputs": [
    {
     "name": "stdout",
     "output_type": "stream",
     "text": [
      "CPU times: total: 4min 15s\n",
      "Wall time: 58.7 s\n"
     ]
    },
    {
     "data": {
      "text/plain": [
       "5423"
      ]
     },
     "execution_count": 16,
     "metadata": {},
     "output_type": "execute_result"
    }
   ],
   "source": [
    "%%time\n",
    "neutral=knn_und(X,y,'neutral', k=15, t=5, algorithm=\"auto\", metric=\"euclidean\")\n",
    "neutral.count(False)"
   ]
  },
  {
   "cell_type": "code",
   "execution_count": 17,
   "id": "b83a587d",
   "metadata": {},
   "outputs": [
    {
     "name": "stdout",
     "output_type": "stream",
     "text": [
      "CPU times: total: 4min 3s\n",
      "Wall time: 1min 1s\n"
     ]
    },
    {
     "data": {
      "text/plain": [
       "8190"
      ]
     },
     "execution_count": 17,
     "metadata": {},
     "output_type": "execute_result"
    }
   ],
   "source": [
    "%%time\n",
    "happy=knn_und(X,y,'happy', k=25, t=3, algorithm=\"auto\", metric=\"euclidean\")\n",
    "happy.count(False)"
   ]
  },
  {
   "cell_type": "code",
   "execution_count": 18,
   "id": "053a6f32",
   "metadata": {},
   "outputs": [],
   "source": [
    "estados = [a*b*c*d*e*f for a,b,c,d,e,f in zip(happy,neutral,sad,fear,angry,surprise)]\n",
    "df['estados']=estados\n",
    "train=df[df['estados']!=0]\n",
    "test=df[df['estados']!=1]"
   ]
  },
  {
   "cell_type": "markdown",
   "id": "68c7e340",
   "metadata": {},
   "source": [
    "Nueva normalidad"
   ]
  },
  {
   "cell_type": "code",
   "execution_count": 21,
   "id": "5b2a3a01",
   "metadata": {},
   "outputs": [
    {
     "data": {
      "text/html": [
       "<div>\n",
       "<style scoped>\n",
       "    .dataframe tbody tr th:only-of-type {\n",
       "        vertical-align: middle;\n",
       "    }\n",
       "\n",
       "    .dataframe tbody tr th {\n",
       "        vertical-align: top;\n",
       "    }\n",
       "\n",
       "    .dataframe thead th {\n",
       "        text-align: right;\n",
       "    }\n",
       "</style>\n",
       "<table border=\"1\" class=\"dataframe\">\n",
       "  <thead>\n",
       "    <tr style=\"text-align: right;\">\n",
       "      <th></th>\n",
       "      <th>gray_matrix</th>\n",
       "      <th>hog</th>\n",
       "      <th>estados</th>\n",
       "    </tr>\n",
       "    <tr>\n",
       "      <th>label</th>\n",
       "      <th></th>\n",
       "      <th></th>\n",
       "      <th></th>\n",
       "    </tr>\n",
       "  </thead>\n",
       "  <tbody>\n",
       "    <tr>\n",
       "      <th>angry</th>\n",
       "      <td>563</td>\n",
       "      <td>563</td>\n",
       "      <td>563</td>\n",
       "    </tr>\n",
       "    <tr>\n",
       "      <th>disgust</th>\n",
       "      <td>547</td>\n",
       "      <td>547</td>\n",
       "      <td>547</td>\n",
       "    </tr>\n",
       "    <tr>\n",
       "      <th>fear</th>\n",
       "      <td>735</td>\n",
       "      <td>735</td>\n",
       "      <td>735</td>\n",
       "    </tr>\n",
       "    <tr>\n",
       "      <th>happy</th>\n",
       "      <td>799</td>\n",
       "      <td>799</td>\n",
       "      <td>799</td>\n",
       "    </tr>\n",
       "    <tr>\n",
       "      <th>neutral</th>\n",
       "      <td>775</td>\n",
       "      <td>775</td>\n",
       "      <td>775</td>\n",
       "    </tr>\n",
       "    <tr>\n",
       "      <th>sad</th>\n",
       "      <td>586</td>\n",
       "      <td>586</td>\n",
       "      <td>586</td>\n",
       "    </tr>\n",
       "    <tr>\n",
       "      <th>surprise</th>\n",
       "      <td>606</td>\n",
       "      <td>606</td>\n",
       "      <td>606</td>\n",
       "    </tr>\n",
       "  </tbody>\n",
       "</table>\n",
       "</div>"
      ],
      "text/plain": [
       "          gray_matrix  hog  estados\n",
       "label                              \n",
       "angry             563  563      563\n",
       "disgust           547  547      547\n",
       "fear              735  735      735\n",
       "happy             799  799      799\n",
       "neutral           775  775      775\n",
       "sad               586  586      586\n",
       "surprise          606  606      606"
      ]
     },
     "execution_count": 21,
     "metadata": {},
     "output_type": "execute_result"
    }
   ],
   "source": [
    "train.groupby('label').count()"
   ]
  },
  {
   "cell_type": "code",
   "execution_count": 23,
   "id": "896552e2",
   "metadata": {},
   "outputs": [
    {
     "data": {
      "text/html": [
       "<div>\n",
       "<style scoped>\n",
       "    .dataframe tbody tr th:only-of-type {\n",
       "        vertical-align: middle;\n",
       "    }\n",
       "\n",
       "    .dataframe tbody tr th {\n",
       "        vertical-align: top;\n",
       "    }\n",
       "\n",
       "    .dataframe thead th {\n",
       "        text-align: right;\n",
       "    }\n",
       "</style>\n",
       "<table border=\"1\" class=\"dataframe\">\n",
       "  <thead>\n",
       "    <tr style=\"text-align: right;\">\n",
       "      <th></th>\n",
       "      <th>gray_matrix</th>\n",
       "      <th>hog</th>\n",
       "      <th>estados</th>\n",
       "      <th>label</th>\n",
       "    </tr>\n",
       "  </thead>\n",
       "  <tbody>\n",
       "    <tr>\n",
       "      <th>0</th>\n",
       "      <td>[[46, 34, 26, 23, 12, 32, 35, 26, 26, 38, 71, ...</td>\n",
       "      <td>[0.33274356, 0.1704117, 0.025357863, 0.0006549...</td>\n",
       "      <td>0</td>\n",
       "      <td>angry</td>\n",
       "    </tr>\n",
       "    <tr>\n",
       "      <th>1</th>\n",
       "      <td>[[55, 33, 54, 32, 26, 21, 50, 29, 38, 45, 79, ...</td>\n",
       "      <td>[0.27381572, 0.22986299, 0.09233569, 0.0294371...</td>\n",
       "      <td>0</td>\n",
       "      <td>angry</td>\n",
       "    </tr>\n",
       "    <tr>\n",
       "      <th>2</th>\n",
       "      <td>[[123, 123, 126, 131, 124, 69, 109, 149, 159, ...</td>\n",
       "      <td>[0.34384748, 0.01883176, 0.004236705, 0.010840...</td>\n",
       "      <td>0</td>\n",
       "      <td>angry</td>\n",
       "    </tr>\n",
       "    <tr>\n",
       "      <th>3</th>\n",
       "      <td>[[255, 255, 255, 255, 255, 255, 255, 255, 255,...</td>\n",
       "      <td>[0.014489936, 0.008741817, 0.020611065, 0.0, 0...</td>\n",
       "      <td>0</td>\n",
       "      <td>angry</td>\n",
       "    </tr>\n",
       "    <tr>\n",
       "      <th>4</th>\n",
       "      <td>[[127, 121, 124, 137, 123, 118, 120, 111, 111,...</td>\n",
       "      <td>[0.25325525, 0.0767658, 0.026558537, 0.0181144...</td>\n",
       "      <td>0</td>\n",
       "      <td>angry</td>\n",
       "    </tr>\n",
       "    <tr>\n",
       "      <th>...</th>\n",
       "      <td>...</td>\n",
       "      <td>...</td>\n",
       "      <td>...</td>\n",
       "      <td>...</td>\n",
       "    </tr>\n",
       "    <tr>\n",
       "      <th>35882</th>\n",
       "      <td>[[27, 26, 26, 26, 27, 27, 28, 28, 33, 34, 35, ...</td>\n",
       "      <td>[0.14022486, 0.07403437, 0.0686184, 0.0, 0.041...</td>\n",
       "      <td>0</td>\n",
       "      <td>surprise</td>\n",
       "    </tr>\n",
       "    <tr>\n",
       "      <th>35883</th>\n",
       "      <td>[[7, 6, 13, 39, 76, 58, 29, 21, 16, 20, 34, 56...</td>\n",
       "      <td>[0.39263126, 0.11640715, 0.0072888294, 0.00144...</td>\n",
       "      <td>0</td>\n",
       "      <td>surprise</td>\n",
       "    </tr>\n",
       "    <tr>\n",
       "      <th>35884</th>\n",
       "      <td>[[124, 129, 125, 123, 129, 128, 127, 128, 131,...</td>\n",
       "      <td>[0.20560372, 0.04748373, 0.03934206, 0.0998374...</td>\n",
       "      <td>1</td>\n",
       "      <td>surprise</td>\n",
       "    </tr>\n",
       "    <tr>\n",
       "      <th>35885</th>\n",
       "      <td>[[242, 242, 242, 216, 110, 42, 20, 41, 37, 14,...</td>\n",
       "      <td>[0.3589315, 0.16316827, 0.042510495, 0.0318309...</td>\n",
       "      <td>0</td>\n",
       "      <td>surprise</td>\n",
       "    </tr>\n",
       "    <tr>\n",
       "      <th>35886</th>\n",
       "      <td>[[194, 197, 191, 174, 160, 147, 145, 158, 155,...</td>\n",
       "      <td>[0.3321482, 0.3321482, 0.07540651, 0.02142311,...</td>\n",
       "      <td>0</td>\n",
       "      <td>surprise</td>\n",
       "    </tr>\n",
       "  </tbody>\n",
       "</table>\n",
       "<p>35887 rows × 4 columns</p>\n",
       "</div>"
      ],
      "text/plain": [
       "                                             gray_matrix  \\\n",
       "0      [[46, 34, 26, 23, 12, 32, 35, 26, 26, 38, 71, ...   \n",
       "1      [[55, 33, 54, 32, 26, 21, 50, 29, 38, 45, 79, ...   \n",
       "2      [[123, 123, 126, 131, 124, 69, 109, 149, 159, ...   \n",
       "3      [[255, 255, 255, 255, 255, 255, 255, 255, 255,...   \n",
       "4      [[127, 121, 124, 137, 123, 118, 120, 111, 111,...   \n",
       "...                                                  ...   \n",
       "35882  [[27, 26, 26, 26, 27, 27, 28, 28, 33, 34, 35, ...   \n",
       "35883  [[7, 6, 13, 39, 76, 58, 29, 21, 16, 20, 34, 56...   \n",
       "35884  [[124, 129, 125, 123, 129, 128, 127, 128, 131,...   \n",
       "35885  [[242, 242, 242, 216, 110, 42, 20, 41, 37, 14,...   \n",
       "35886  [[194, 197, 191, 174, 160, 147, 145, 158, 155,...   \n",
       "\n",
       "                                                     hog  estados     label  \n",
       "0      [0.33274356, 0.1704117, 0.025357863, 0.0006549...        0     angry  \n",
       "1      [0.27381572, 0.22986299, 0.09233569, 0.0294371...        0     angry  \n",
       "2      [0.34384748, 0.01883176, 0.004236705, 0.010840...        0     angry  \n",
       "3      [0.014489936, 0.008741817, 0.020611065, 0.0, 0...        0     angry  \n",
       "4      [0.25325525, 0.0767658, 0.026558537, 0.0181144...        0     angry  \n",
       "...                                                  ...      ...       ...  \n",
       "35882  [0.14022486, 0.07403437, 0.0686184, 0.0, 0.041...        0  surprise  \n",
       "35883  [0.39263126, 0.11640715, 0.0072888294, 0.00144...        0  surprise  \n",
       "35884  [0.20560372, 0.04748373, 0.03934206, 0.0998374...        1  surprise  \n",
       "35885  [0.3589315, 0.16316827, 0.042510495, 0.0318309...        0  surprise  \n",
       "35886  [0.3321482, 0.3321482, 0.07540651, 0.02142311,...        0  surprise  \n",
       "\n",
       "[35887 rows x 4 columns]"
      ]
     },
     "execution_count": 23,
     "metadata": {},
     "output_type": "execute_result"
    }
   ],
   "source": [
    "df = df[['gray_matrix','hog' ,'estados', 'label']]\n",
    "df"
   ]
  },
  {
   "cell_type": "markdown",
   "id": "55cfc990",
   "metadata": {},
   "source": [
    "Y lo empepino"
   ]
  },
  {
   "cell_type": "code",
   "execution_count": 29,
   "id": "12dfb2df",
   "metadata": {},
   "outputs": [],
   "source": [
    "gray_matrix = np.array(df['gray_matrix'].values)\n",
    "hog = np.array(df['hog'].values)\n",
    "estados = np.array(df['estados'].values)\n",
    "label = np.array(df['label'].values)\n",
    "\n",
    "np.save('gray_matrix.npy', gray_matrix)\n",
    "np.save('hog.npy', hog)\n",
    "np.save('estados.npy', estados)\n",
    "np.save('labels.npy', label)"
   ]
  }
 ],
 "metadata": {
  "kernelspec": {
   "display_name": "Python 3 (ipykernel)",
   "language": "python",
   "name": "python3"
  },
  "language_info": {
   "codemirror_mode": {
    "name": "ipython",
    "version": 3
   },
   "file_extension": ".py",
   "mimetype": "text/x-python",
   "name": "python",
   "nbconvert_exporter": "python",
   "pygments_lexer": "ipython3",
   "version": "3.11.4"
  }
 },
 "nbformat": 4,
 "nbformat_minor": 5
}
